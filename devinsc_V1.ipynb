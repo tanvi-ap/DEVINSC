{
  "nbformat": 4,
  "nbformat_minor": 0,
  "metadata": {
    "colab": {
      "name": "devinsc_V1.ipynb",
      "provenance": [],
      "collapsed_sections": [],
      "authorship_tag": "ABX9TyPok2kemgv1vQjPAShlzxRV"
    },
    "kernelspec": {
      "name": "python3",
      "display_name": "Python 3"
    },
    "language_info": {
      "name": "python"
    }
  },
  "cells": [
    {
      "cell_type": "code",
      "metadata": {
        "colab": {
          "base_uri": "https://localhost:8080/"
        },
        "id": "p1U6IvKLg9FT",
        "outputId": "a165467e-3d38-4403-9a76-1636068a55d9"
      },
      "source": [
        "!pip install pydriller"
      ],
      "execution_count": null,
      "outputs": [
        {
          "output_type": "stream",
          "name": "stdout",
          "text": [
            "Collecting pydriller\n",
            "  Downloading PyDriller-2.0-py3-none-any.whl (65 kB)\n",
            "\u001b[?25l\r\u001b[K     |█████                           | 10 kB 25.3 MB/s eta 0:00:01\r\u001b[K     |██████████                      | 20 kB 26.6 MB/s eta 0:00:01\r\u001b[K     |███████████████                 | 30 kB 12.1 MB/s eta 0:00:01\r\u001b[K     |████████████████████            | 40 kB 9.5 MB/s eta 0:00:01\r\u001b[K     |█████████████████████████       | 51 kB 5.4 MB/s eta 0:00:01\r\u001b[K     |██████████████████████████████  | 61 kB 5.9 MB/s eta 0:00:01\r\u001b[K     |████████████████████████████████| 65 kB 2.5 MB/s \n",
            "\u001b[?25hRequirement already satisfied: pytz in /usr/local/lib/python3.7/dist-packages (from pydriller) (2018.9)\n",
            "Collecting lizard\n",
            "  Downloading lizard-1.17.9-py2.py3-none-any.whl (64 kB)\n",
            "\u001b[K     |████████████████████████████████| 64 kB 3.2 MB/s \n",
            "\u001b[?25hCollecting gitpython\n",
            "  Downloading GitPython-3.1.24-py3-none-any.whl (180 kB)\n",
            "\u001b[K     |████████████████████████████████| 180 kB 41.3 MB/s \n",
            "\u001b[?25hCollecting gitdb<5,>=4.0.1\n",
            "  Downloading gitdb-4.0.9-py3-none-any.whl (63 kB)\n",
            "\u001b[K     |████████████████████████████████| 63 kB 1.7 MB/s \n",
            "\u001b[?25hRequirement already satisfied: typing-extensions>=3.7.4.3 in /usr/local/lib/python3.7/dist-packages (from gitpython->pydriller) (3.10.0.2)\n",
            "Collecting smmap<6,>=3.0.1\n",
            "  Downloading smmap-5.0.0-py3-none-any.whl (24 kB)\n",
            "Installing collected packages: smmap, gitdb, lizard, gitpython, pydriller\n",
            "Successfully installed gitdb-4.0.9 gitpython-3.1.24 lizard-1.17.9 pydriller-2.0 smmap-5.0.0\n"
          ]
        }
      ]
    },
    {
      "cell_type": "code",
      "metadata": {
        "colab": {
          "base_uri": "https://localhost:8080/"
        },
        "id": "8zGOV4cShUPH",
        "outputId": "e0c29a91-13f5-4f84-b490-e3f2b3499d63"
      },
      "source": [
        "!pip install transformers"
      ],
      "execution_count": null,
      "outputs": [
        {
          "output_type": "stream",
          "name": "stdout",
          "text": [
            "Collecting transformers\n",
            "  Downloading transformers-4.12.5-py3-none-any.whl (3.1 MB)\n",
            "\u001b[K     |████████████████████████████████| 3.1 MB 5.3 MB/s \n",
            "\u001b[?25hRequirement already satisfied: numpy>=1.17 in /usr/local/lib/python3.7/dist-packages (from transformers) (1.19.5)\n",
            "Requirement already satisfied: packaging>=20.0 in /usr/local/lib/python3.7/dist-packages (from transformers) (21.3)\n",
            "Requirement already satisfied: filelock in /usr/local/lib/python3.7/dist-packages (from transformers) (3.4.0)\n",
            "Requirement already satisfied: regex!=2019.12.17 in /usr/local/lib/python3.7/dist-packages (from transformers) (2019.12.20)\n",
            "Requirement already satisfied: requests in /usr/local/lib/python3.7/dist-packages (from transformers) (2.23.0)\n",
            "Collecting huggingface-hub<1.0,>=0.1.0\n",
            "  Downloading huggingface_hub-0.1.2-py3-none-any.whl (59 kB)\n",
            "\u001b[K     |████████████████████████████████| 59 kB 6.9 MB/s \n",
            "\u001b[?25hCollecting pyyaml>=5.1\n",
            "  Downloading PyYAML-6.0-cp37-cp37m-manylinux_2_5_x86_64.manylinux1_x86_64.manylinux_2_12_x86_64.manylinux2010_x86_64.whl (596 kB)\n",
            "\u001b[K     |████████████████████████████████| 596 kB 51.6 MB/s \n",
            "\u001b[?25hCollecting sacremoses\n",
            "  Downloading sacremoses-0.0.46-py3-none-any.whl (895 kB)\n",
            "\u001b[K     |████████████████████████████████| 895 kB 41.9 MB/s \n",
            "\u001b[?25hCollecting tokenizers<0.11,>=0.10.1\n",
            "  Downloading tokenizers-0.10.3-cp37-cp37m-manylinux_2_5_x86_64.manylinux1_x86_64.manylinux_2_12_x86_64.manylinux2010_x86_64.whl (3.3 MB)\n",
            "\u001b[K     |████████████████████████████████| 3.3 MB 51.1 MB/s \n",
            "\u001b[?25hRequirement already satisfied: importlib-metadata in /usr/local/lib/python3.7/dist-packages (from transformers) (4.8.2)\n",
            "Requirement already satisfied: tqdm>=4.27 in /usr/local/lib/python3.7/dist-packages (from transformers) (4.62.3)\n",
            "Requirement already satisfied: typing-extensions>=3.7.4.3 in /usr/local/lib/python3.7/dist-packages (from huggingface-hub<1.0,>=0.1.0->transformers) (3.10.0.2)\n",
            "Requirement already satisfied: pyparsing!=3.0.5,>=2.0.2 in /usr/local/lib/python3.7/dist-packages (from packaging>=20.0->transformers) (3.0.6)\n",
            "Requirement already satisfied: zipp>=0.5 in /usr/local/lib/python3.7/dist-packages (from importlib-metadata->transformers) (3.6.0)\n",
            "Requirement already satisfied: certifi>=2017.4.17 in /usr/local/lib/python3.7/dist-packages (from requests->transformers) (2021.10.8)\n",
            "Requirement already satisfied: idna<3,>=2.5 in /usr/local/lib/python3.7/dist-packages (from requests->transformers) (2.10)\n",
            "Requirement already satisfied: chardet<4,>=3.0.2 in /usr/local/lib/python3.7/dist-packages (from requests->transformers) (3.0.4)\n",
            "Requirement already satisfied: urllib3!=1.25.0,!=1.25.1,<1.26,>=1.21.1 in /usr/local/lib/python3.7/dist-packages (from requests->transformers) (1.24.3)\n",
            "Requirement already satisfied: click in /usr/local/lib/python3.7/dist-packages (from sacremoses->transformers) (7.1.2)\n",
            "Requirement already satisfied: joblib in /usr/local/lib/python3.7/dist-packages (from sacremoses->transformers) (1.1.0)\n",
            "Requirement already satisfied: six in /usr/local/lib/python3.7/dist-packages (from sacremoses->transformers) (1.15.0)\n",
            "Installing collected packages: pyyaml, tokenizers, sacremoses, huggingface-hub, transformers\n",
            "  Attempting uninstall: pyyaml\n",
            "    Found existing installation: PyYAML 3.13\n",
            "    Uninstalling PyYAML-3.13:\n",
            "      Successfully uninstalled PyYAML-3.13\n",
            "Successfully installed huggingface-hub-0.1.2 pyyaml-6.0 sacremoses-0.0.46 tokenizers-0.10.3 transformers-4.12.5\n"
          ]
        }
      ]
    },
    {
      "cell_type": "code",
      "metadata": {
        "colab": {
          "base_uri": "https://localhost:8080/"
        },
        "id": "jCFSvHf0i2wy",
        "outputId": "0a355f7b-2f02-417c-f7aa-8faef90a472a"
      },
      "source": [
        "from google.colab import drive\n",
        "drive.mount('/drive')"
      ],
      "execution_count": null,
      "outputs": [
        {
          "output_type": "stream",
          "name": "stdout",
          "text": [
            "Drive already mounted at /drive; to attempt to forcibly remount, call drive.mount(\"/drive\", force_remount=True).\n"
          ]
        }
      ]
    },
    {
      "cell_type": "markdown",
      "metadata": {
        "id": "sWrX-8tXCbEa"
      },
      "source": [
        "**Import necessary libraries**"
      ]
    },
    {
      "cell_type": "code",
      "metadata": {
        "colab": {
          "base_uri": "https://localhost:8080/"
        },
        "id": "9t4MahjSCZ4k",
        "outputId": "25ea98d5-8351-4cb1-a7b6-fe6d9721de92"
      },
      "source": [
        "#for data\n",
        "import pandas as pd \n",
        "\n",
        "#for github scraping\n",
        "import os\n",
        "import requests\n",
        "import time\n",
        "import sys\n",
        "import json\n",
        "from requests_oauthlib import OAuth1Session\n",
        "from requests_oauthlib import OAuth1\n",
        "\n",
        "#text preprocessing\n",
        "import nltk\n",
        "nltk.download('stopwords')\n",
        "from nltk.corpus import stopwords\n",
        "import string\n",
        "\n",
        "stop_words = stopwords.words('english')\n"
      ],
      "execution_count": null,
      "outputs": [
        {
          "output_type": "stream",
          "name": "stdout",
          "text": [
            "[nltk_data] Downloading package stopwords to /root/nltk_data...\n",
            "[nltk_data]   Package stopwords is already up-to-date!\n"
          ]
        }
      ]
    },
    {
      "cell_type": "markdown",
      "metadata": {
        "id": "kCbXbh5d6DVW"
      },
      "source": [
        "[All the Things You Can Do With GitHub API and Python](https://towardsdatascience.com/all-the-things-you-can-do-with-github-api-and-python-f01790fca131)"
      ]
    },
    {
      "cell_type": "code",
      "metadata": {
        "id": "RefdrhpAhdV8"
      },
      "source": [
        "\n",
        "\n",
        "file_no=1\n",
        "\n",
        "def gettoken():\n",
        "  with open('/drive/MyDrive/token.txt', 'r') as token:\n",
        "        gittoken = token.readline().replace(\"\\n\",\"\")\n",
        "  return gittoken\n",
        "\n",
        "#print(gettoken())\n",
        "\n",
        "def searchgit(fixes,commits):\n",
        "    \n",
        "    params = (\n",
        "      ('q', fixes),('per_page',100) )\n",
        "   \n",
        "    headers = {'Accept': 'application/vnd.github.cloak-preview', 'Authorization': 'token ' + gettoken()}\n",
        "    url = \"https://api.github.com/search/commits\"\n",
        "  \n",
        "    for i in range(0,100):\n",
        "        print(i,fixes, commits)\n",
        "        limit = 0\n",
        "        while(limit == 0):\n",
        "            response = requests.get(url,headers=headers,params=(('q',fixes),('per_page',100)))\n",
        "            head = response.headers      \n",
        "            if 'X-RateLimit-Remaining' in head:\n",
        "                limit = int(head['X-RateLimit-Remaining'])\n",
        "                if limit == 0:\n",
        "                # Limit of requests per time was reached, sleep to wait until we can request again\n",
        "                    print(\"Rate limit. Sleep.\")\n",
        "                    global file_no\n",
        "                    file_no+=1\n",
        "                    #file_name = '/drive/MyDrive/git_commits_XSS'+str(file_no)+'.json'\n",
        "                    #file_name = '/drive/MyDrive/git_commits_SQL'+str(file_no)+'.json'\n",
        "                    #file_name = '/drive/MyDrive/git_commits_Buffer'+str(file_no)+'.json'\n",
        "                    file_name = '/drive/MyDrive/git_commits_Improperaccess'+str(file_no)+'.json'\n",
        "                    print(file_name)\n",
        "                    content= response.json()\n",
        "                    with open(file_name, 'w') as commitfile:\n",
        "                        json.dump(content, commitfile)  \n",
        "                    time.sleep(35)  \n",
        "        if 'Link' not in head:\n",
        "            break;                  \n",
        "                    \n",
        "   \n",
        "    \n",
        "    # for j in range(0, len(content)):\n",
        "    #     repo = content[\"items\"][j][\"repository\"][\"html_url\"]\n",
        "    \n",
        "\n",
        "   \n",
        "\n",
        "\n",
        "  \n",
        "  \n"
      ],
      "execution_count": null,
      "outputs": []
    },
    {
      "cell_type": "markdown",
      "metadata": {
        "id": "AI5ghhiWOeXE"
      },
      "source": [
        ""
      ]
    },
    {
      "cell_type": "code",
      "metadata": {
        "id": "VuX_GGbvhPxh"
      },
      "source": [
        "commits = {}\n",
        "\n",
        "#load previously scraped commits\n",
        "'''\n",
        "with open('/drive/MyDrive/git_commits_XSS.json','r') as jsonfile:\n",
        "    data = jsonfile.read()\n",
        "    commits= json.loads(data.decode(\"utf-8\"))\n",
        "'''   \n",
        "#print(data)\n",
        "    \n",
        "#vulnerabilities = [\"XSS\",\"cross site\",\"cross site request forgery\"]   \n",
        "#vulnerabilities = [\"SQL\",\"SQLI\",\"injection\"]\n",
        "#vulnerabilities =[\"buffer\",\"overflow\",\"stack\"]\n",
        "vulnerabilities =[\"improper\",\"unauthenticated\",\"gain access\",\"permission\"]\n",
        "#fixwords = [\"prevent\", \"fix\", \"attack\", \"protect\", \"issue\", \"correct\", \"update\", \"improve\", \"change\", \"check\", \"malicious\", \"insecure\", \"vulnerable\", \"vulnerability\"]\n",
        "fixwords = [\"malicious\", \"insecure\", \"vulnerable\", \"vulnerability\",\"vulnerabilities\"]"
      ],
      "execution_count": null,
      "outputs": []
    },
    {
      "cell_type": "code",
      "metadata": {
        "id": "x_tGglJMhXxZ"
      },
      "source": [
        "\n",
        "\n",
        "#for all combinations of vulnerabilities and fixwords, scrape github \n",
        "for v in vulnerabilities:\n",
        "  for fix in fixwords:\n",
        "      searchgit(v + \" \" + fix, commits ); "
      ],
      "execution_count": null,
      "outputs": []
    },
    {
      "cell_type": "code",
      "metadata": {
        "id": "eq_H4iVB4AnT"
      },
      "source": [
        "import glob\n",
        "\n",
        "countxss = 0\n",
        "countsqli = 0\n",
        "countimproperaccess = 0\n",
        "for file in glob.glob('/drive/MyDrive/git_commits_XSS*.json'):\n",
        "    countxss+=1\n",
        "    print(file)\n",
        "\n",
        "for file in glob.glob('/drive/MyDrive/git_commits_SQL*.json'):\n",
        "    countsqli+=1\n",
        "\n",
        "for file in glob.glob('/drive/MyDrive/git_commits_Improperaccess*.json'):\n",
        "    countimproperaccess+=1\n",
        "#\n",
        "# print(countxss)\n",
        "# print(countsqli)\n",
        "# print(countimproperaccess)"
      ],
      "execution_count": null,
      "outputs": []
    },
    {
      "cell_type": "code",
      "metadata": {
        "colab": {
          "base_uri": "https://localhost:8080/"
        },
        "id": "tL1FeWYg7bZs",
        "outputId": "09aa7271-1e57-401b-db30-f853da93c4e7"
      },
      "source": [
        "countxss"
      ],
      "execution_count": null,
      "outputs": [
        {
          "output_type": "execute_result",
          "data": {
            "text/plain": [
              "58"
            ]
          },
          "metadata": {},
          "execution_count": 52
        }
      ]
    },
    {
      "cell_type": "code",
      "metadata": {
        "id": "omWnudc869Sn"
      },
      "source": [
        "#extracting messages for xss\n",
        "\n",
        "xss_msg=list()\n",
        "filename_xss = list()\n",
        "\n",
        "for i in range(2,countxss+2):\n",
        "  with open('/drive/MyDrive/git_commits_XSS'+str(i)+'.json')as inputfile:\n",
        "    data = json.load(inputfile)\n",
        "    if i==5 or i==46 or i==49: #file numbers without any data because of limit exceeded error\n",
        "      continue\n",
        "    else:\n",
        "     # print(i, len(data[\"items\"]))\n",
        "     for j in range(0,len(data[\"items\"])):\n",
        "       filename_xss.append( '/drive/MyDrive/git_commits_XSS'+str(i)+'.json')\n",
        "       xss_msg.append(data[\"items\"][j][\"commit\"][\"message\"])\n",
        "#print(type(data))\n",
        "\n",
        "final_data_xss= {'message':xss_msg,'type':'XSS','filename':filename_xss}\n",
        "data_frame_xss = pd.DataFrame(final_data_xss)\n",
        "\n",
        "#with open(/drive/MyDrive/git_commits_XSS'+str(i)+'.json)"
      ],
      "execution_count": null,
      "outputs": []
    },
    {
      "cell_type": "code",
      "metadata": {
        "colab": {
          "base_uri": "https://localhost:8080/",
          "height": 423
        },
        "id": "zZUrPkWYB_v4",
        "outputId": "7e8951a5-ed57-451b-abf3-8a5c8c8e7461"
      },
      "source": [
        "data_frame_xss"
      ],
      "execution_count": null,
      "outputs": [
        {
          "output_type": "execute_result",
          "data": {
            "text/html": [
              "<div>\n",
              "<style scoped>\n",
              "    .dataframe tbody tr th:only-of-type {\n",
              "        vertical-align: middle;\n",
              "    }\n",
              "\n",
              "    .dataframe tbody tr th {\n",
              "        vertical-align: top;\n",
              "    }\n",
              "\n",
              "    .dataframe thead th {\n",
              "        text-align: right;\n",
              "    }\n",
              "</style>\n",
              "<table border=\"1\" class=\"dataframe\">\n",
              "  <thead>\n",
              "    <tr style=\"text-align: right;\">\n",
              "      <th></th>\n",
              "      <th>message</th>\n",
              "      <th>type</th>\n",
              "      <th>filename</th>\n",
              "    </tr>\n",
              "  </thead>\n",
              "  <tbody>\n",
              "    <tr>\n",
              "      <th>0</th>\n",
              "      <td>Add parameterized queries to protect against m...</td>\n",
              "      <td>XSS</td>\n",
              "      <td>/drive/MyDrive/git_commits_XSS2.json</td>\n",
              "    </tr>\n",
              "    <tr>\n",
              "      <th>1</th>\n",
              "      <td>Replace malicious sql query\\n\\nLet's show an a...</td>\n",
              "      <td>XSS</td>\n",
              "      <td>/drive/MyDrive/git_commits_XSS2.json</td>\n",
              "    </tr>\n",
              "    <tr>\n",
              "      <th>2</th>\n",
              "      <td>Escaped query values to prevent SQL injection ...</td>\n",
              "      <td>XSS</td>\n",
              "      <td>/drive/MyDrive/git_commits_XSS2.json</td>\n",
              "    </tr>\n",
              "    <tr>\n",
              "      <th>3</th>\n",
              "      <td>setup a defence for malicious SQL injection</td>\n",
              "      <td>XSS</td>\n",
              "      <td>/drive/MyDrive/git_commits_XSS2.json</td>\n",
              "    </tr>\n",
              "    <tr>\n",
              "      <th>4</th>\n",
              "      <td>ecure/prevent sql malicious injection</td>\n",
              "      <td>XSS</td>\n",
              "      <td>/drive/MyDrive/git_commits_XSS2.json</td>\n",
              "    </tr>\n",
              "    <tr>\n",
              "      <th>...</th>\n",
              "      <td>...</td>\n",
              "      <td>...</td>\n",
              "      <td>...</td>\n",
              "    </tr>\n",
              "    <tr>\n",
              "      <th>5495</th>\n",
              "      <td>[NSE] Added http-csrf.nse that detects Cross S...</td>\n",
              "      <td>XSS</td>\n",
              "      <td>/drive/MyDrive/git_commits_XSS59.json</td>\n",
              "    </tr>\n",
              "    <tr>\n",
              "      <th>5496</th>\n",
              "      <td>[NSE] Added http-csrf.nse that detects Cross S...</td>\n",
              "      <td>XSS</td>\n",
              "      <td>/drive/MyDrive/git_commits_XSS59.json</td>\n",
              "    </tr>\n",
              "    <tr>\n",
              "      <th>5497</th>\n",
              "      <td>[NSE] Added http-csrf.nse that detects Cross S...</td>\n",
              "      <td>XSS</td>\n",
              "      <td>/drive/MyDrive/git_commits_XSS59.json</td>\n",
              "    </tr>\n",
              "    <tr>\n",
              "      <th>5498</th>\n",
              "      <td>[NSE] Added http-csrf.nse that detects Cross S...</td>\n",
              "      <td>XSS</td>\n",
              "      <td>/drive/MyDrive/git_commits_XSS59.json</td>\n",
              "    </tr>\n",
              "    <tr>\n",
              "      <th>5499</th>\n",
              "      <td>[NSE] Added http-csrf.nse that detects Cross S...</td>\n",
              "      <td>XSS</td>\n",
              "      <td>/drive/MyDrive/git_commits_XSS59.json</td>\n",
              "    </tr>\n",
              "  </tbody>\n",
              "</table>\n",
              "<p>5500 rows × 3 columns</p>\n",
              "</div>"
            ],
            "text/plain": [
              "                                                message  ...                               filename\n",
              "0     Add parameterized queries to protect against m...  ...   /drive/MyDrive/git_commits_XSS2.json\n",
              "1     Replace malicious sql query\\n\\nLet's show an a...  ...   /drive/MyDrive/git_commits_XSS2.json\n",
              "2     Escaped query values to prevent SQL injection ...  ...   /drive/MyDrive/git_commits_XSS2.json\n",
              "3           setup a defence for malicious SQL injection  ...   /drive/MyDrive/git_commits_XSS2.json\n",
              "4                 ecure/prevent sql malicious injection  ...   /drive/MyDrive/git_commits_XSS2.json\n",
              "...                                                 ...  ...                                    ...\n",
              "5495  [NSE] Added http-csrf.nse that detects Cross S...  ...  /drive/MyDrive/git_commits_XSS59.json\n",
              "5496  [NSE] Added http-csrf.nse that detects Cross S...  ...  /drive/MyDrive/git_commits_XSS59.json\n",
              "5497  [NSE] Added http-csrf.nse that detects Cross S...  ...  /drive/MyDrive/git_commits_XSS59.json\n",
              "5498  [NSE] Added http-csrf.nse that detects Cross S...  ...  /drive/MyDrive/git_commits_XSS59.json\n",
              "5499  [NSE] Added http-csrf.nse that detects Cross S...  ...  /drive/MyDrive/git_commits_XSS59.json\n",
              "\n",
              "[5500 rows x 3 columns]"
            ]
          },
          "metadata": {},
          "execution_count": 98
        }
      ]
    },
    {
      "cell_type": "code",
      "metadata": {
        "colab": {
          "base_uri": "https://localhost:8080/"
        },
        "id": "5TiCEK-QDK6j",
        "outputId": "b45fbfbc-a953-4848-8a59-2313d8fc1ec6"
      },
      "source": [
        "countsqli"
      ],
      "execution_count": null,
      "outputs": [
        {
          "output_type": "execute_result",
          "data": {
            "text/plain": [
              "44"
            ]
          },
          "metadata": {},
          "execution_count": 81
        }
      ]
    },
    {
      "cell_type": "code",
      "metadata": {
        "id": "o6OZUDeeCVAl"
      },
      "source": [
        "#extracting messages for sql\n",
        "\n",
        "sql_msg=list()\n",
        "filename_sql = list()\n",
        "\n",
        "for i in range(2,countsqli+2):\n",
        "  with open('/drive/MyDrive/git_commits_SQL'+str(i)+'.json')as inputfile:\n",
        "    data = json.load(inputfile)\n",
        "    for j in range(0,len(data[\"items\"])):\n",
        "      filename_sql.append( '/drive/MyDrive/git_commits_SQL'+str(i)+'.json')\n",
        "      sql_msg.append(data[\"items\"][j][\"commit\"][\"message\"])\n",
        "\n",
        "final_data_sql= {'message':sql_msg,'type':'SQLI','filename':filename_sql}\n",
        "data_frame_sql = pd.DataFrame(final_data_sql)\n"
      ],
      "execution_count": null,
      "outputs": []
    },
    {
      "cell_type": "code",
      "metadata": {
        "id": "ezQTnaY2EZ5U"
      },
      "source": [
        "#extracting messages for improper access\n",
        "\n",
        "ia_msg=list()\n",
        "filename_ia = list()\n",
        "\n",
        "for i in range(2,countimproperaccess+2):\n",
        "  with open('/drive/MyDrive/git_commits_Improperaccess'+str(i)+'.json')as inputfile:\n",
        "    data = json.load(inputfile)\n",
        "    if i==40:  #file numbers to ignore\n",
        "      continue\n",
        "    else:\n",
        "      #print(i, len(data[\"items\"]))\n",
        "      for j in range(0,len(data[\"items\"])):\n",
        "        filename_ia.append( '/drive/MyDrive/git_commits_Improperaccess'+str(i)+'.json')\n",
        "        ia_msg.append(data[\"items\"][j][\"commit\"][\"message\"])\n",
        "\n",
        "final_data_ia= {'message':ia_msg,'type':'ImproperAccess','filename':filename_ia}\n",
        "data_frame_ia = pd.DataFrame(final_data_ia)\n"
      ],
      "execution_count": null,
      "outputs": []
    },
    {
      "cell_type": "code",
      "metadata": {
        "colab": {
          "base_uri": "https://localhost:8080/",
          "height": 423
        },
        "id": "r6C_C7z_ELEl",
        "outputId": "2e3cb144-b32d-43d4-df3c-4c145b5a4c9f"
      },
      "source": [
        "data_frame_ia"
      ],
      "execution_count": null,
      "outputs": [
        {
          "output_type": "execute_result",
          "data": {
            "text/html": [
              "<div>\n",
              "<style scoped>\n",
              "    .dataframe tbody tr th:only-of-type {\n",
              "        vertical-align: middle;\n",
              "    }\n",
              "\n",
              "    .dataframe tbody tr th {\n",
              "        vertical-align: top;\n",
              "    }\n",
              "\n",
              "    .dataframe thead th {\n",
              "        text-align: right;\n",
              "    }\n",
              "</style>\n",
              "<table border=\"1\" class=\"dataframe\">\n",
              "  <thead>\n",
              "    <tr style=\"text-align: right;\">\n",
              "      <th></th>\n",
              "      <th>message</th>\n",
              "      <th>type</th>\n",
              "      <th>filename</th>\n",
              "    </tr>\n",
              "  </thead>\n",
              "  <tbody>\n",
              "    <tr>\n",
              "      <th>0</th>\n",
              "      <td>Iranian Government-Sponsored APT Cyber Actors ...</td>\n",
              "      <td>ImproperAccess</td>\n",
              "      <td>/drive/MyDrive/git_commits_Improperaccess2.json</td>\n",
              "    </tr>\n",
              "    <tr>\n",
              "      <th>1</th>\n",
              "      <td>exiv2: Fix CVE-2021-3482\\n\\n      References\\n...</td>\n",
              "      <td>ImproperAccess</td>\n",
              "      <td>/drive/MyDrive/git_commits_Improperaccess2.json</td>\n",
              "    </tr>\n",
              "    <tr>\n",
              "      <th>2</th>\n",
              "      <td>exiv2: Fix CVE-2021-3482\\n\\n      References\\n...</td>\n",
              "      <td>ImproperAccess</td>\n",
              "      <td>/drive/MyDrive/git_commits_Improperaccess2.json</td>\n",
              "    </tr>\n",
              "    <tr>\n",
              "      <th>3</th>\n",
              "      <td>exiv2: Fix CVE-2021-3482\\n\\n      References\\n...</td>\n",
              "      <td>ImproperAccess</td>\n",
              "      <td>/drive/MyDrive/git_commits_Improperaccess2.json</td>\n",
              "    </tr>\n",
              "    <tr>\n",
              "      <th>4</th>\n",
              "      <td>exiv2: Fix CVE-2021-3482\\n\\n      References\\n...</td>\n",
              "      <td>ImproperAccess</td>\n",
              "      <td>/drive/MyDrive/git_commits_Improperaccess2.json</td>\n",
              "    </tr>\n",
              "    <tr>\n",
              "      <th>...</th>\n",
              "      <td>...</td>\n",
              "      <td>...</td>\n",
              "      <td>...</td>\n",
              "    </tr>\n",
              "    <tr>\n",
              "      <th>6195</th>\n",
              "      <td>Fix security vulnerability in DPMS\\n\\nChanged ...</td>\n",
              "      <td>ImproperAccess</td>\n",
              "      <td>/drive/MyDrive/git_commits_Improperaccess64.json</td>\n",
              "    </tr>\n",
              "    <tr>\n",
              "      <th>6196</th>\n",
              "      <td>Fix security vulnerability in DPMS\\n\\nChanged ...</td>\n",
              "      <td>ImproperAccess</td>\n",
              "      <td>/drive/MyDrive/git_commits_Improperaccess64.json</td>\n",
              "    </tr>\n",
              "    <tr>\n",
              "      <th>6197</th>\n",
              "      <td>Fix security vulnerability in DPMS\\n\\nChanged ...</td>\n",
              "      <td>ImproperAccess</td>\n",
              "      <td>/drive/MyDrive/git_commits_Improperaccess64.json</td>\n",
              "    </tr>\n",
              "    <tr>\n",
              "      <th>6198</th>\n",
              "      <td>Fix security vulnerability in DPMS\\n\\nChanged ...</td>\n",
              "      <td>ImproperAccess</td>\n",
              "      <td>/drive/MyDrive/git_commits_Improperaccess64.json</td>\n",
              "    </tr>\n",
              "    <tr>\n",
              "      <th>6199</th>\n",
              "      <td>Fix security vulnerability in DPMS\\n\\nChanged ...</td>\n",
              "      <td>ImproperAccess</td>\n",
              "      <td>/drive/MyDrive/git_commits_Improperaccess64.json</td>\n",
              "    </tr>\n",
              "  </tbody>\n",
              "</table>\n",
              "<p>6200 rows × 3 columns</p>\n",
              "</div>"
            ],
            "text/plain": [
              "                                                message  ...                                          filename\n",
              "0     Iranian Government-Sponsored APT Cyber Actors ...  ...   /drive/MyDrive/git_commits_Improperaccess2.json\n",
              "1     exiv2: Fix CVE-2021-3482\\n\\n      References\\n...  ...   /drive/MyDrive/git_commits_Improperaccess2.json\n",
              "2     exiv2: Fix CVE-2021-3482\\n\\n      References\\n...  ...   /drive/MyDrive/git_commits_Improperaccess2.json\n",
              "3     exiv2: Fix CVE-2021-3482\\n\\n      References\\n...  ...   /drive/MyDrive/git_commits_Improperaccess2.json\n",
              "4     exiv2: Fix CVE-2021-3482\\n\\n      References\\n...  ...   /drive/MyDrive/git_commits_Improperaccess2.json\n",
              "...                                                 ...  ...                                               ...\n",
              "6195  Fix security vulnerability in DPMS\\n\\nChanged ...  ...  /drive/MyDrive/git_commits_Improperaccess64.json\n",
              "6196  Fix security vulnerability in DPMS\\n\\nChanged ...  ...  /drive/MyDrive/git_commits_Improperaccess64.json\n",
              "6197  Fix security vulnerability in DPMS\\n\\nChanged ...  ...  /drive/MyDrive/git_commits_Improperaccess64.json\n",
              "6198  Fix security vulnerability in DPMS\\n\\nChanged ...  ...  /drive/MyDrive/git_commits_Improperaccess64.json\n",
              "6199  Fix security vulnerability in DPMS\\n\\nChanged ...  ...  /drive/MyDrive/git_commits_Improperaccess64.json\n",
              "\n",
              "[6200 rows x 3 columns]"
            ]
          },
          "metadata": {},
          "execution_count": 92
        }
      ]
    },
    {
      "cell_type": "code",
      "metadata": {
        "colab": {
          "base_uri": "https://localhost:8080/",
          "height": 356
        },
        "id": "1QnVi3oTIkq7",
        "outputId": "5c5c1f54-2539-437c-e336-bb6e34435bd8"
      },
      "source": [
        "#Remove duplicate values if any from data"
      ],
      "execution_count": null,
      "outputs": [
        {
          "output_type": "stream",
          "name": "stdout",
          "text": [
            "[nltk_data] Downloading package stopwords to /root/nltk_data...\n",
            "[nltk_data]   Package stopwords is already up-to-date!\n"
          ]
        },
        {
          "output_type": "error",
          "ename": "AttributeError",
          "evalue": "ignored",
          "traceback": [
            "\u001b[0;31m---------------------------------------------------------------------------\u001b[0m",
            "\u001b[0;31mAttributeError\u001b[0m                            Traceback (most recent call last)",
            "\u001b[0;32m<ipython-input-96-3c9023cc4a1a>\u001b[0m in \u001b[0;36m<module>\u001b[0;34m()\u001b[0m\n\u001b[1;32m      7\u001b[0m \u001b[0;34m\u001b[0m\u001b[0m\n\u001b[1;32m      8\u001b[0m \u001b[0mdata_frame_xss\u001b[0m\u001b[0;34m[\u001b[0m\u001b[0;34m'message'\u001b[0m\u001b[0;34m]\u001b[0m \u001b[0;34m=\u001b[0m \u001b[0mdata_frame_xss\u001b[0m\u001b[0;34m[\u001b[0m\u001b[0;34m'message'\u001b[0m\u001b[0;34m]\u001b[0m\u001b[0;34m.\u001b[0m\u001b[0mapply\u001b[0m\u001b[0;34m(\u001b[0m\u001b[0;32mlambda\u001b[0m \u001b[0mx\u001b[0m\u001b[0;34m:\u001b[0m \u001b[0;34m' '\u001b[0m\u001b[0;34m.\u001b[0m\u001b[0mjoin\u001b[0m\u001b[0;34m(\u001b[0m\u001b[0;34m[\u001b[0m\u001b[0mword\u001b[0m \u001b[0;32mfor\u001b[0m \u001b[0mword\u001b[0m \u001b[0;32min\u001b[0m \u001b[0mx\u001b[0m\u001b[0;34m.\u001b[0m\u001b[0msplit\u001b[0m\u001b[0;34m(\u001b[0m\u001b[0;34m)\u001b[0m \u001b[0;32mif\u001b[0m \u001b[0mword\u001b[0m \u001b[0;32mnot\u001b[0m \u001b[0;32min\u001b[0m \u001b[0;34m(\u001b[0m\u001b[0mstop_words\u001b[0m\u001b[0;34m)\u001b[0m\u001b[0;34m]\u001b[0m\u001b[0;34m)\u001b[0m\u001b[0;34m)\u001b[0m\u001b[0;34m\u001b[0m\u001b[0;34m\u001b[0m\u001b[0m\n\u001b[0;32m----> 9\u001b[0;31m \u001b[0mdata_frame_xss\u001b[0m\u001b[0;34m[\u001b[0m\u001b[0;34m'message'\u001b[0m\u001b[0;34m]\u001b[0m\u001b[0;34m=\u001b[0m\u001b[0mdata_frame_xss\u001b[0m\u001b[0;34m[\u001b[0m\u001b[0;34m'message'\u001b[0m\u001b[0;34m]\u001b[0m\u001b[0;34m.\u001b[0m\u001b[0mlower\u001b[0m\u001b[0;34m(\u001b[0m\u001b[0;34m)\u001b[0m\u001b[0;34m\u001b[0m\u001b[0;34m\u001b[0m\u001b[0m\n\u001b[0m",
            "\u001b[0;32m/usr/local/lib/python3.7/dist-packages/pandas/core/generic.py\u001b[0m in \u001b[0;36m__getattr__\u001b[0;34m(self, name)\u001b[0m\n\u001b[1;32m   5139\u001b[0m             \u001b[0;32mif\u001b[0m \u001b[0mself\u001b[0m\u001b[0;34m.\u001b[0m\u001b[0m_info_axis\u001b[0m\u001b[0;34m.\u001b[0m\u001b[0m_can_hold_identifiers_and_holds_name\u001b[0m\u001b[0;34m(\u001b[0m\u001b[0mname\u001b[0m\u001b[0;34m)\u001b[0m\u001b[0;34m:\u001b[0m\u001b[0;34m\u001b[0m\u001b[0;34m\u001b[0m\u001b[0m\n\u001b[1;32m   5140\u001b[0m                 \u001b[0;32mreturn\u001b[0m \u001b[0mself\u001b[0m\u001b[0;34m[\u001b[0m\u001b[0mname\u001b[0m\u001b[0;34m]\u001b[0m\u001b[0;34m\u001b[0m\u001b[0;34m\u001b[0m\u001b[0m\n\u001b[0;32m-> 5141\u001b[0;31m             \u001b[0;32mreturn\u001b[0m \u001b[0mobject\u001b[0m\u001b[0;34m.\u001b[0m\u001b[0m__getattribute__\u001b[0m\u001b[0;34m(\u001b[0m\u001b[0mself\u001b[0m\u001b[0;34m,\u001b[0m \u001b[0mname\u001b[0m\u001b[0;34m)\u001b[0m\u001b[0;34m\u001b[0m\u001b[0;34m\u001b[0m\u001b[0m\n\u001b[0m\u001b[1;32m   5142\u001b[0m \u001b[0;34m\u001b[0m\u001b[0m\n\u001b[1;32m   5143\u001b[0m     \u001b[0;32mdef\u001b[0m \u001b[0m__setattr__\u001b[0m\u001b[0;34m(\u001b[0m\u001b[0mself\u001b[0m\u001b[0;34m,\u001b[0m \u001b[0mname\u001b[0m\u001b[0;34m:\u001b[0m \u001b[0mstr\u001b[0m\u001b[0;34m,\u001b[0m \u001b[0mvalue\u001b[0m\u001b[0;34m)\u001b[0m \u001b[0;34m->\u001b[0m \u001b[0;32mNone\u001b[0m\u001b[0;34m:\u001b[0m\u001b[0;34m\u001b[0m\u001b[0;34m\u001b[0m\u001b[0m\n",
            "\u001b[0;31mAttributeError\u001b[0m: 'Series' object has no attribute 'lower'"
          ]
        }
      ]
    },
    {
      "cell_type": "code",
      "metadata": {
        "colab": {
          "base_uri": "https://localhost:8080/",
          "height": 423
        },
        "id": "3coeQ9jbMKod",
        "outputId": "2decfdf0-b1f0-4d61-d430-3dd2120990f3"
      },
      "source": [
        "data_frame_xss"
      ],
      "execution_count": null,
      "outputs": [
        {
          "output_type": "execute_result",
          "data": {
            "text/html": [
              "<div>\n",
              "<style scoped>\n",
              "    .dataframe tbody tr th:only-of-type {\n",
              "        vertical-align: middle;\n",
              "    }\n",
              "\n",
              "    .dataframe tbody tr th {\n",
              "        vertical-align: top;\n",
              "    }\n",
              "\n",
              "    .dataframe thead th {\n",
              "        text-align: right;\n",
              "    }\n",
              "</style>\n",
              "<table border=\"1\" class=\"dataframe\">\n",
              "  <thead>\n",
              "    <tr style=\"text-align: right;\">\n",
              "      <th></th>\n",
              "      <th>message</th>\n",
              "      <th>type</th>\n",
              "      <th>filename</th>\n",
              "    </tr>\n",
              "  </thead>\n",
              "  <tbody>\n",
              "    <tr>\n",
              "      <th>0</th>\n",
              "      <td>Add parameterized queries protect malicious SQ...</td>\n",
              "      <td>XSS</td>\n",
              "      <td>/drive/MyDrive/git_commits_XSS2.json</td>\n",
              "    </tr>\n",
              "    <tr>\n",
              "      <th>1</th>\n",
              "      <td>Replace malicious sql query Let's show actual ...</td>\n",
              "      <td>XSS</td>\n",
              "      <td>/drive/MyDrive/git_commits_XSS2.json</td>\n",
              "    </tr>\n",
              "    <tr>\n",
              "      <th>2</th>\n",
              "      <td>Escaped query values prevent SQL injection ins...</td>\n",
              "      <td>XSS</td>\n",
              "      <td>/drive/MyDrive/git_commits_XSS2.json</td>\n",
              "    </tr>\n",
              "    <tr>\n",
              "      <th>3</th>\n",
              "      <td>setup defence malicious SQL injection</td>\n",
              "      <td>XSS</td>\n",
              "      <td>/drive/MyDrive/git_commits_XSS2.json</td>\n",
              "    </tr>\n",
              "    <tr>\n",
              "      <th>4</th>\n",
              "      <td>ecure/prevent sql malicious injection</td>\n",
              "      <td>XSS</td>\n",
              "      <td>/drive/MyDrive/git_commits_XSS2.json</td>\n",
              "    </tr>\n",
              "    <tr>\n",
              "      <th>...</th>\n",
              "      <td>...</td>\n",
              "      <td>...</td>\n",
              "      <td>...</td>\n",
              "    </tr>\n",
              "    <tr>\n",
              "      <th>5495</th>\n",
              "      <td>[NSE] Added http-csrf.nse detects Cross Site R...</td>\n",
              "      <td>XSS</td>\n",
              "      <td>/drive/MyDrive/git_commits_XSS59.json</td>\n",
              "    </tr>\n",
              "    <tr>\n",
              "      <th>5496</th>\n",
              "      <td>[NSE] Added http-csrf.nse detects Cross Site R...</td>\n",
              "      <td>XSS</td>\n",
              "      <td>/drive/MyDrive/git_commits_XSS59.json</td>\n",
              "    </tr>\n",
              "    <tr>\n",
              "      <th>5497</th>\n",
              "      <td>[NSE] Added http-csrf.nse detects Cross Site R...</td>\n",
              "      <td>XSS</td>\n",
              "      <td>/drive/MyDrive/git_commits_XSS59.json</td>\n",
              "    </tr>\n",
              "    <tr>\n",
              "      <th>5498</th>\n",
              "      <td>[NSE] Added http-csrf.nse detects Cross Site R...</td>\n",
              "      <td>XSS</td>\n",
              "      <td>/drive/MyDrive/git_commits_XSS59.json</td>\n",
              "    </tr>\n",
              "    <tr>\n",
              "      <th>5499</th>\n",
              "      <td>[NSE] Added http-csrf.nse detects Cross Site R...</td>\n",
              "      <td>XSS</td>\n",
              "      <td>/drive/MyDrive/git_commits_XSS59.json</td>\n",
              "    </tr>\n",
              "  </tbody>\n",
              "</table>\n",
              "<p>5500 rows × 3 columns</p>\n",
              "</div>"
            ],
            "text/plain": [
              "                                                message  ...                               filename\n",
              "0     Add parameterized queries protect malicious SQ...  ...   /drive/MyDrive/git_commits_XSS2.json\n",
              "1     Replace malicious sql query Let's show actual ...  ...   /drive/MyDrive/git_commits_XSS2.json\n",
              "2     Escaped query values prevent SQL injection ins...  ...   /drive/MyDrive/git_commits_XSS2.json\n",
              "3                 setup defence malicious SQL injection  ...   /drive/MyDrive/git_commits_XSS2.json\n",
              "4                 ecure/prevent sql malicious injection  ...   /drive/MyDrive/git_commits_XSS2.json\n",
              "...                                                 ...  ...                                    ...\n",
              "5495  [NSE] Added http-csrf.nse detects Cross Site R...  ...  /drive/MyDrive/git_commits_XSS59.json\n",
              "5496  [NSE] Added http-csrf.nse detects Cross Site R...  ...  /drive/MyDrive/git_commits_XSS59.json\n",
              "5497  [NSE] Added http-csrf.nse detects Cross Site R...  ...  /drive/MyDrive/git_commits_XSS59.json\n",
              "5498  [NSE] Added http-csrf.nse detects Cross Site R...  ...  /drive/MyDrive/git_commits_XSS59.json\n",
              "5499  [NSE] Added http-csrf.nse detects Cross Site R...  ...  /drive/MyDrive/git_commits_XSS59.json\n",
              "\n",
              "[5500 rows x 3 columns]"
            ]
          },
          "metadata": {},
          "execution_count": 95
        }
      ]
    },
    {
      "cell_type": "code",
      "metadata": {
        "id": "fAMihsYz0cuF",
        "colab": {
          "base_uri": "https://localhost:8080/"
        },
        "outputId": "d3dd5882-3f56-443c-9370-a84c3853c272"
      },
      "source": [
        "from transformers import AutoTokenizer, AutoModelForSequenceClassification\n",
        "import torch\n",
        "import numpy as np\n",
        "from datetime import datetime\n",
        "from pydriller import Repository\n",
        "import json\n",
        "\n",
        "import os.path\n",
        "\n",
        "with open('/drive/MyDrive/git_commits.json','r') as jsonfile:\n",
        "    data = jsonfile.read()\n",
        "  \n",
        "print(data[0:100])\n",
        "\n",
        "# tokenizer = AutoTokenizer.from_pretrained('mrm8488/codebert-base-finetuned-detect-insecure-code')\n",
        "# model = AutoModelForSequenceClassification.from_pretrained('mrm8488/codebert-base-finetuned-detect-insecure-code')\n",
        "\n",
        "# currenttime = datetime.now()\n",
        "# formatcurrtime = currenttime.strftime(\"%H:%M\")\n",
        "# print(\"Loading done. \",formatcurrtime)\n",
        "\n",
        "# for i in data:\n",
        "#   project_url = data[i][\"html_url\"]\n",
        "#   for commit in Repository(project_url).traverse_commits:\n",
        "#     for m in commit.modified_files:\n",
        "#       inputs = tokenizer(str(m),return_tensors =\"pt\", truncation=True, padding='max_length')\n",
        "#       labels = torch.tensor([1]).unsqueeze(0)\n",
        "#       outputs = model(**inputs, labels = label)\n",
        "#       loss = outputs.loss\n",
        "#       logits = outputs.logits\n",
        "#       if np.argmax(logits.detach().numpy)==0:\n",
        "#         print(i[\"html_url\"],\" is vulnerable\")"
      ],
      "execution_count": null,
      "outputs": [
        {
          "output_type": "stream",
          "name": "stdout",
          "text": [
            "{\"documentation_url\": \"https://docs.github.com/en/free-pro-team@latest/rest/overview/resources-in-th\n"
          ]
        }
      ]
    },
    {
      "cell_type": "markdown",
      "metadata": {
        "id": "4dkFc_tQHvP4"
      },
      "source": [
        "**References**:\n",
        "1. https://towardsdatascience.com/introduction-to-git-data-extraction-and-analysis-in-python-e7e2bf9b4606\n",
        "2. https://towardsdatascience.com/text-pre-processing-stop-words-removal-using-different-libraries-f20bac19929a\n",
        "3. https://towardsdatascience.com/nlp-preprocessing-with-nltk-3c04ee00edc0\n",
        "4. https://medium.com/swlh/how-to-train-word2vec-model-using-gensim-library-115b35440c90\n",
        "\n",
        "5. Keywords related to vulnerabilities: [Identifying the characteristics of vulnerable code changes: an empirical study](https://www.researchgate.net/figure/Keywords-Associated-with-Vulnerabilities_tbl1_286077750)"
      ]
    }
  ]
}