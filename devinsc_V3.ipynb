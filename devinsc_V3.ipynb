{
  "nbformat": 4,
  "nbformat_minor": 0,
  "metadata": {
    "colab": {
      "name": "devinsc_V3.ipynb",
      "provenance": [],
      "collapsed_sections": [],
      "authorship_tag": "ABX9TyNqHdB0HWT9bFM8MEbXbsZi"
    },
    "kernelspec": {
      "name": "python3",
      "display_name": "Python 3"
    },
    "language_info": {
      "name": "python"
    }
  },
  "cells": [
    {
      "cell_type": "code",
      "metadata": {
        "colab": {
          "base_uri": "https://localhost:8080/"
        },
        "id": "jCFSvHf0i2wy",
        "outputId": "0a7b4d9f-7020-49e5-bd70-b7e458bb7321"
      },
      "source": [
        "from google.colab import drive\n",
        "drive.mount('/drive')"
      ],
      "execution_count": 1,
      "outputs": [
        {
          "output_type": "stream",
          "name": "stdout",
          "text": [
            "Mounted at /drive\n"
          ]
        }
      ]
    },
    {
      "cell_type": "code",
      "metadata": {
        "colab": {
          "base_uri": "https://localhost:8080/"
        },
        "id": "qhGIopkbrOKo",
        "outputId": "1e396ded-a2aa-48f2-d5b1-53831d3a3c4e"
      },
      "source": [
        "!pip install transformers"
      ],
      "execution_count": 2,
      "outputs": [
        {
          "output_type": "stream",
          "name": "stdout",
          "text": [
            "Collecting transformers\n",
            "  Downloading transformers-4.12.5-py3-none-any.whl (3.1 MB)\n",
            "\u001b[K     |████████████████████████████████| 3.1 MB 7.7 MB/s \n",
            "\u001b[?25hCollecting sacremoses\n",
            "  Downloading sacremoses-0.0.46-py3-none-any.whl (895 kB)\n",
            "\u001b[K     |████████████████████████████████| 895 kB 59.0 MB/s \n",
            "\u001b[?25hRequirement already satisfied: tqdm>=4.27 in /usr/local/lib/python3.7/dist-packages (from transformers) (4.62.3)\n",
            "Requirement already satisfied: filelock in /usr/local/lib/python3.7/dist-packages (from transformers) (3.4.0)\n",
            "Collecting tokenizers<0.11,>=0.10.1\n",
            "  Downloading tokenizers-0.10.3-cp37-cp37m-manylinux_2_5_x86_64.manylinux1_x86_64.manylinux_2_12_x86_64.manylinux2010_x86_64.whl (3.3 MB)\n",
            "\u001b[K     |████████████████████████████████| 3.3 MB 25.4 MB/s \n",
            "\u001b[?25hRequirement already satisfied: numpy>=1.17 in /usr/local/lib/python3.7/dist-packages (from transformers) (1.19.5)\n",
            "Requirement already satisfied: packaging>=20.0 in /usr/local/lib/python3.7/dist-packages (from transformers) (21.3)\n",
            "Collecting huggingface-hub<1.0,>=0.1.0\n",
            "  Downloading huggingface_hub-0.1.2-py3-none-any.whl (59 kB)\n",
            "\u001b[K     |████████████████████████████████| 59 kB 8.9 MB/s \n",
            "\u001b[?25hRequirement already satisfied: regex!=2019.12.17 in /usr/local/lib/python3.7/dist-packages (from transformers) (2019.12.20)\n",
            "Requirement already satisfied: requests in /usr/local/lib/python3.7/dist-packages (from transformers) (2.23.0)\n",
            "Requirement already satisfied: importlib-metadata in /usr/local/lib/python3.7/dist-packages (from transformers) (4.8.2)\n",
            "Collecting pyyaml>=5.1\n",
            "  Downloading PyYAML-6.0-cp37-cp37m-manylinux_2_5_x86_64.manylinux1_x86_64.manylinux_2_12_x86_64.manylinux2010_x86_64.whl (596 kB)\n",
            "\u001b[K     |████████████████████████████████| 596 kB 45.5 MB/s \n",
            "\u001b[?25hRequirement already satisfied: typing-extensions>=3.7.4.3 in /usr/local/lib/python3.7/dist-packages (from huggingface-hub<1.0,>=0.1.0->transformers) (3.10.0.2)\n",
            "Requirement already satisfied: pyparsing!=3.0.5,>=2.0.2 in /usr/local/lib/python3.7/dist-packages (from packaging>=20.0->transformers) (3.0.6)\n",
            "Requirement already satisfied: zipp>=0.5 in /usr/local/lib/python3.7/dist-packages (from importlib-metadata->transformers) (3.6.0)\n",
            "Requirement already satisfied: urllib3!=1.25.0,!=1.25.1,<1.26,>=1.21.1 in /usr/local/lib/python3.7/dist-packages (from requests->transformers) (1.24.3)\n",
            "Requirement already satisfied: chardet<4,>=3.0.2 in /usr/local/lib/python3.7/dist-packages (from requests->transformers) (3.0.4)\n",
            "Requirement already satisfied: idna<3,>=2.5 in /usr/local/lib/python3.7/dist-packages (from requests->transformers) (2.10)\n",
            "Requirement already satisfied: certifi>=2017.4.17 in /usr/local/lib/python3.7/dist-packages (from requests->transformers) (2021.10.8)\n",
            "Requirement already satisfied: joblib in /usr/local/lib/python3.7/dist-packages (from sacremoses->transformers) (1.1.0)\n",
            "Requirement already satisfied: six in /usr/local/lib/python3.7/dist-packages (from sacremoses->transformers) (1.15.0)\n",
            "Requirement already satisfied: click in /usr/local/lib/python3.7/dist-packages (from sacremoses->transformers) (7.1.2)\n",
            "Installing collected packages: pyyaml, tokenizers, sacremoses, huggingface-hub, transformers\n",
            "  Attempting uninstall: pyyaml\n",
            "    Found existing installation: PyYAML 3.13\n",
            "    Uninstalling PyYAML-3.13:\n",
            "      Successfully uninstalled PyYAML-3.13\n",
            "Successfully installed huggingface-hub-0.1.2 pyyaml-6.0 sacremoses-0.0.46 tokenizers-0.10.3 transformers-4.12.5\n"
          ]
        }
      ]
    },
    {
      "cell_type": "code",
      "metadata": {
        "colab": {
          "base_uri": "https://localhost:8080/"
        },
        "id": "xL-nPDH7El48",
        "outputId": "2f253c78-5f7b-4a53-f1e8-29696b58ae83"
      },
      "source": [
        "!pip install lime"
      ],
      "execution_count": 4,
      "outputs": [
        {
          "output_type": "stream",
          "name": "stdout",
          "text": [
            "Collecting lime\n",
            "  Downloading lime-0.2.0.1.tar.gz (275 kB)\n",
            "\u001b[?25l\r\u001b[K     |█▏                              | 10 kB 24.4 MB/s eta 0:00:01\r\u001b[K     |██▍                             | 20 kB 30.3 MB/s eta 0:00:01\r\u001b[K     |███▋                            | 30 kB 22.9 MB/s eta 0:00:01\r\u001b[K     |████▊                           | 40 kB 18.1 MB/s eta 0:00:01\r\u001b[K     |██████                          | 51 kB 8.3 MB/s eta 0:00:01\r\u001b[K     |███████▏                        | 61 kB 9.0 MB/s eta 0:00:01\r\u001b[K     |████████▎                       | 71 kB 7.3 MB/s eta 0:00:01\r\u001b[K     |█████████▌                      | 81 kB 8.1 MB/s eta 0:00:01\r\u001b[K     |██████████▊                     | 92 kB 7.0 MB/s eta 0:00:01\r\u001b[K     |███████████▉                    | 102 kB 7.6 MB/s eta 0:00:01\r\u001b[K     |█████████████                   | 112 kB 7.6 MB/s eta 0:00:01\r\u001b[K     |██████████████▎                 | 122 kB 7.6 MB/s eta 0:00:01\r\u001b[K     |███████████████▌                | 133 kB 7.6 MB/s eta 0:00:01\r\u001b[K     |████████████████▋               | 143 kB 7.6 MB/s eta 0:00:01\r\u001b[K     |█████████████████▉              | 153 kB 7.6 MB/s eta 0:00:01\r\u001b[K     |███████████████████             | 163 kB 7.6 MB/s eta 0:00:01\r\u001b[K     |████████████████████▏           | 174 kB 7.6 MB/s eta 0:00:01\r\u001b[K     |█████████████████████▍          | 184 kB 7.6 MB/s eta 0:00:01\r\u001b[K     |██████████████████████▋         | 194 kB 7.6 MB/s eta 0:00:01\r\u001b[K     |███████████████████████▊        | 204 kB 7.6 MB/s eta 0:00:01\r\u001b[K     |█████████████████████████       | 215 kB 7.6 MB/s eta 0:00:01\r\u001b[K     |██████████████████████████▏     | 225 kB 7.6 MB/s eta 0:00:01\r\u001b[K     |███████████████████████████▍    | 235 kB 7.6 MB/s eta 0:00:01\r\u001b[K     |████████████████████████████▌   | 245 kB 7.6 MB/s eta 0:00:01\r\u001b[K     |█████████████████████████████▊  | 256 kB 7.6 MB/s eta 0:00:01\r\u001b[K     |███████████████████████████████ | 266 kB 7.6 MB/s eta 0:00:01\r\u001b[K     |████████████████████████████████| 275 kB 7.6 MB/s \n",
            "\u001b[?25hRequirement already satisfied: matplotlib in /usr/local/lib/python3.7/dist-packages (from lime) (3.2.2)\n",
            "Requirement already satisfied: numpy in /usr/local/lib/python3.7/dist-packages (from lime) (1.19.5)\n",
            "Requirement already satisfied: scipy in /usr/local/lib/python3.7/dist-packages (from lime) (1.4.1)\n",
            "Requirement already satisfied: tqdm in /usr/local/lib/python3.7/dist-packages (from lime) (4.62.3)\n",
            "Requirement already satisfied: scikit-learn>=0.18 in /usr/local/lib/python3.7/dist-packages (from lime) (1.0.1)\n",
            "Requirement already satisfied: scikit-image>=0.12 in /usr/local/lib/python3.7/dist-packages (from lime) (0.18.3)\n",
            "Requirement already satisfied: imageio>=2.3.0 in /usr/local/lib/python3.7/dist-packages (from scikit-image>=0.12->lime) (2.4.1)\n",
            "Requirement already satisfied: pillow!=7.1.0,!=7.1.1,>=4.3.0 in /usr/local/lib/python3.7/dist-packages (from scikit-image>=0.12->lime) (7.1.2)\n",
            "Requirement already satisfied: PyWavelets>=1.1.1 in /usr/local/lib/python3.7/dist-packages (from scikit-image>=0.12->lime) (1.2.0)\n",
            "Requirement already satisfied: networkx>=2.0 in /usr/local/lib/python3.7/dist-packages (from scikit-image>=0.12->lime) (2.6.3)\n",
            "Requirement already satisfied: tifffile>=2019.7.26 in /usr/local/lib/python3.7/dist-packages (from scikit-image>=0.12->lime) (2021.11.2)\n",
            "Requirement already satisfied: cycler>=0.10 in /usr/local/lib/python3.7/dist-packages (from matplotlib->lime) (0.11.0)\n",
            "Requirement already satisfied: python-dateutil>=2.1 in /usr/local/lib/python3.7/dist-packages (from matplotlib->lime) (2.8.2)\n",
            "Requirement already satisfied: kiwisolver>=1.0.1 in /usr/local/lib/python3.7/dist-packages (from matplotlib->lime) (1.3.2)\n",
            "Requirement already satisfied: pyparsing!=2.0.4,!=2.1.2,!=2.1.6,>=2.0.1 in /usr/local/lib/python3.7/dist-packages (from matplotlib->lime) (3.0.6)\n",
            "Requirement already satisfied: six>=1.5 in /usr/local/lib/python3.7/dist-packages (from python-dateutil>=2.1->matplotlib->lime) (1.15.0)\n",
            "Requirement already satisfied: threadpoolctl>=2.0.0 in /usr/local/lib/python3.7/dist-packages (from scikit-learn>=0.18->lime) (3.0.0)\n",
            "Requirement already satisfied: joblib>=0.11 in /usr/local/lib/python3.7/dist-packages (from scikit-learn>=0.18->lime) (1.1.0)\n",
            "Building wheels for collected packages: lime\n",
            "  Building wheel for lime (setup.py) ... \u001b[?25l\u001b[?25hdone\n",
            "  Created wheel for lime: filename=lime-0.2.0.1-py3-none-any.whl size=283857 sha256=2ccf9c50f1bbfd45203938155acd7338da6bad987a8eae3e9a2476a808317722\n",
            "  Stored in directory: /root/.cache/pip/wheels/ca/cb/e5/ac701e12d365a08917bf4c6171c0961bc880a8181359c66aa7\n",
            "Successfully built lime\n",
            "Installing collected packages: lime\n",
            "Successfully installed lime-0.2.0.1\n"
          ]
        }
      ]
    },
    {
      "cell_type": "markdown",
      "metadata": {
        "id": "sWrX-8tXCbEa"
      },
      "source": [
        "**Import necessary libraries**"
      ]
    },
    {
      "cell_type": "code",
      "metadata": {
        "colab": {
          "base_uri": "https://localhost:8080/",
          "height": 442
        },
        "id": "9t4MahjSCZ4k",
        "outputId": "2f92786a-d82e-4fc4-8ac4-669e28358a7a"
      },
      "source": [
        "## for data\n",
        "import json\n",
        "import pandas as pd\n",
        "import numpy as np\n",
        "\n",
        "## for plotting\n",
        "import matplotlib.pyplot as plt\n",
        "import seaborn as sns\n",
        "\n",
        "## for processing\n",
        "import re\n",
        "import nltk\n",
        "nltk.download('stopwords')\n",
        "nltk.download('wordnet')\n",
        "\n",
        "## for bag-of-words\n",
        "from sklearn import feature_extraction, model_selection, naive_bayes, pipeline, manifold, preprocessing\n",
        "\n",
        "## for explainer\n",
        "from lime import lime_text\n",
        "\n",
        "## for word embedding\n",
        "import gensim\n",
        "import gensim.downloader as gensim_api\n",
        "\n",
        "## for deep learning\n",
        "from tensorflow.keras import models, layers, preprocessing as kprocessing\n",
        "from tensorflow.keras import backend as K\n",
        "\n",
        "## for bert language model\n",
        "import transformers\n",
        "\n",
        "from matplotlib.animation import FuncAnimation"
      ],
      "execution_count": 3,
      "outputs": [
        {
          "output_type": "stream",
          "name": "stdout",
          "text": [
            "[nltk_data] Downloading package stopwords to /root/nltk_data...\n",
            "[nltk_data]   Unzipping corpora/stopwords.zip.\n",
            "[nltk_data] Downloading package wordnet to /root/nltk_data...\n",
            "[nltk_data]   Unzipping corpora/wordnet.zip.\n"
          ]
        },
        {
          "output_type": "error",
          "ename": "ModuleNotFoundError",
          "evalue": "ignored",
          "traceback": [
            "\u001b[0;31m---------------------------------------------------------------------------\u001b[0m",
            "\u001b[0;31mModuleNotFoundError\u001b[0m                       Traceback (most recent call last)",
            "\u001b[0;32m<ipython-input-3-77d54f2cbd09>\u001b[0m in \u001b[0;36m<module>\u001b[0;34m()\u001b[0m\n\u001b[1;32m     18\u001b[0m \u001b[0;34m\u001b[0m\u001b[0m\n\u001b[1;32m     19\u001b[0m \u001b[0;31m## for explainer\u001b[0m\u001b[0;34m\u001b[0m\u001b[0;34m\u001b[0m\u001b[0;34m\u001b[0m\u001b[0m\n\u001b[0;32m---> 20\u001b[0;31m \u001b[0;32mfrom\u001b[0m \u001b[0mlime\u001b[0m \u001b[0;32mimport\u001b[0m \u001b[0mlime_text\u001b[0m\u001b[0;34m\u001b[0m\u001b[0;34m\u001b[0m\u001b[0m\n\u001b[0m\u001b[1;32m     21\u001b[0m \u001b[0;34m\u001b[0m\u001b[0m\n\u001b[1;32m     22\u001b[0m \u001b[0;31m## for word embedding\u001b[0m\u001b[0;34m\u001b[0m\u001b[0;34m\u001b[0m\u001b[0;34m\u001b[0m\u001b[0m\n",
            "\u001b[0;31mModuleNotFoundError\u001b[0m: No module named 'lime'",
            "",
            "\u001b[0;31m---------------------------------------------------------------------------\u001b[0;32m\nNOTE: If your import is failing due to a missing package, you can\nmanually install dependencies using either !pip or !apt.\n\nTo view examples of installing some common dependencies, click the\n\"Open Examples\" button below.\n\u001b[0;31m---------------------------------------------------------------------------\u001b[0m\n"
          ],
          "errorDetails": {
            "actions": [
              {
                "action": "open_url",
                "actionText": "Open Examples",
                "url": "/notebooks/snippets/importing_libraries.ipynb"
              }
            ]
          }
        }
      ]
    },
    {
      "cell_type": "code",
      "metadata": {
        "id": "RefdrhpAhdV8"
      },
      "source": [
        "\n",
        "\n",
        "file_no=1\n",
        "\n",
        "def gettoken():\n",
        "  with open('/drive/MyDrive/token.txt', 'r') as token:\n",
        "        gittoken = token.readline().replace(\"\\n\",\"\")\n",
        "  return gittoken\n",
        "\n",
        "#print(gettoken())\n",
        "\n",
        "def searchgit(fixes,commits):\n",
        "    \n",
        "    params = (\n",
        "      ('q', fixes),('per_page',100) )\n",
        "   \n",
        "    headers = {'Accept': 'application/vnd.github.cloak-preview', 'Authorization': 'token ' + gettoken()}\n",
        "    url = \"https://api.github.com/search/commits\"\n",
        "  \n",
        "    for i in range(0,100):\n",
        "        print(i,fixes, commits)\n",
        "        limit = 0\n",
        "        while(limit == 0):\n",
        "            response = requests.get(url,headers=headers,params=(('q',fixes),('per_page',100)))\n",
        "            head = response.headers      \n",
        "            if 'X-RateLimit-Remaining' in head:\n",
        "                limit = int(head['X-RateLimit-Remaining'])\n",
        "                if limit == 0:\n",
        "                # Limit of requests per time was reached, sleep to wait until we can request again\n",
        "                    print(\"Rate limit. Sleep.\")\n",
        "                    global file_no\n",
        "                    file_no+=1\n",
        "                    #file_name = '/drive/MyDrive/git_commits_XSS'+str(file_no)+'.json'\n",
        "                    #file_name = '/drive/MyDrive/git_commits_SQL'+str(file_no)+'.json'\n",
        "                    #file_name = '/drive/MyDrive/git_commits_Buffer'+str(file_no)+'.json'\n",
        "                    file_name = '/drive/MyDrive/git_commits_Improperaccess'+str(file_no)+'.json'\n",
        "                    print(file_name)\n",
        "                    content= response.json()\n",
        "                    with open(file_name, 'w') as commitfile:\n",
        "                        json.dump(content, commitfile)  \n",
        "                    time.sleep(35)  \n",
        "        if 'Link' not in head:\n",
        "            break;                  \n",
        "                    \n",
        "   \n",
        "    \n",
        "    # for j in range(0, len(content)):\n",
        "    #     repo = content[\"items\"][j][\"repository\"][\"html_url\"]\n",
        "    \n",
        "\n",
        "   \n",
        "\n",
        "\n",
        "  \n",
        "  \n"
      ],
      "execution_count": null,
      "outputs": []
    },
    {
      "cell_type": "code",
      "metadata": {
        "id": "VuX_GGbvhPxh"
      },
      "source": [
        "commits = {}\n",
        "\n",
        "#load previously scraped commits\n",
        "'''\n",
        "with open('/drive/MyDrive/git_commits_XSS.json','r') as jsonfile:\n",
        "    data = jsonfile.read()\n",
        "    commits= json.loads(data.decode(\"utf-8\"))\n",
        "'''   \n",
        "#print(data)\n",
        "    \n",
        "#vulnerabilities = [\"XSS\",\"cross site\",\"cross site request forgery\"]   \n",
        "#vulnerabilities = [\"SQL\",\"SQLI\",\"injection\"]\n",
        "#vulnerabilities =[\"buffer\",\"overflow\",\"stack\"]\n",
        "vulnerabilities =[\"improper\",\"unauthenticated\",\"gain access\",\"permission\"]\n",
        "#fixwords = [\"prevent\", \"fix\", \"attack\", \"protect\", \"issue\", \"correct\", \"update\", \"improve\", \"change\", \"check\", \"malicious\", \"insecure\", \"vulnerable\", \"vulnerability\"]\n",
        "fixwords = [\"malicious\", \"insecure\", \"vulnerable\", \"vulnerability\",\"vulnerabilities\"]"
      ],
      "execution_count": null,
      "outputs": []
    },
    {
      "cell_type": "code",
      "metadata": {
        "id": "x_tGglJMhXxZ"
      },
      "source": [
        "\n",
        "\n",
        "#for all combinations of vulnerabilities and fixwords, scrape github \n",
        "for v in vulnerabilities:\n",
        "  for fix in fixwords:\n",
        "      searchgit(v + \" \" + fix, commits ); "
      ],
      "execution_count": null,
      "outputs": []
    },
    {
      "cell_type": "code",
      "metadata": {
        "id": "eq_H4iVB4AnT"
      },
      "source": [
        "import glob\n",
        "\n",
        "countxss = 0\n",
        "countsqli = 0\n",
        "countimproperaccess = 0\n",
        "for file in glob.glob('/drive/MyDrive/git_commits_XSS*.json'):\n",
        "    countxss+=1\n",
        "    # print(file)\n",
        "\n",
        "for file in glob.glob('/drive/MyDrive/git_commits_SQL*.json'):\n",
        "    countsqli+=1\n",
        "\n",
        "for file in glob.glob('/drive/MyDrive/git_commits_Improperaccess*.json'):\n",
        "    countimproperaccess+=1\n",
        "#\n",
        "# print(countxss)\n",
        "# print(countsqli)\n",
        "# print(countimproperaccess)"
      ],
      "execution_count": 4,
      "outputs": []
    },
    {
      "cell_type": "code",
      "metadata": {
        "colab": {
          "base_uri": "https://localhost:8080/"
        },
        "id": "tL1FeWYg7bZs",
        "outputId": "09aa7271-1e57-401b-db30-f853da93c4e7"
      },
      "source": [
        "countxss"
      ],
      "execution_count": null,
      "outputs": [
        {
          "output_type": "execute_result",
          "data": {
            "text/plain": [
              "58"
            ]
          },
          "metadata": {},
          "execution_count": 52
        }
      ]
    },
    {
      "cell_type": "code",
      "metadata": {
        "id": "omWnudc869Sn"
      },
      "source": [
        "#extracting messages for xss\n",
        "\n",
        "xss_msg=list()\n",
        "filename_xss = list()\n",
        "\n",
        "for i in range(2,countxss+2):\n",
        "  with open('/drive/MyDrive/git_commits_XSS'+str(i)+'.json')as inputfile:\n",
        "    data = json.load(inputfile)\n",
        "    if i==5 or i==46 or i==49: #file numbers without any data because of limit exceeded error\n",
        "      continue\n",
        "    else:\n",
        "     # print(i, len(data[\"items\"]))\n",
        "     for j in range(0,len(data[\"items\"])):\n",
        "       filename_xss.append( '/drive/MyDrive/git_commits_XSS'+str(i)+'.json')\n",
        "       xss_msg.append(data[\"items\"][j][\"commit\"][\"message\"])\n",
        "#print(type(data))\n",
        "\n",
        "final_data_xss= {'message':xss_msg,'type':'XSS','filename':filename_xss}\n",
        "data_frame_xss = pd.DataFrame(final_data_xss)\n",
        "\n",
        "#with open(/drive/MyDrive/git_commits_XSS'+str(i)+'.json)"
      ],
      "execution_count": 8,
      "outputs": []
    },
    {
      "cell_type": "code",
      "metadata": {
        "colab": {
          "base_uri": "https://localhost:8080/",
          "height": 423
        },
        "id": "zZUrPkWYB_v4",
        "outputId": "034d3679-b064-4017-cc8b-d7f67c5b5e7f"
      },
      "source": [
        "data_frame_xss"
      ],
      "execution_count": null,
      "outputs": [
        {
          "output_type": "execute_result",
          "data": {
            "text/html": [
              "<div>\n",
              "<style scoped>\n",
              "    .dataframe tbody tr th:only-of-type {\n",
              "        vertical-align: middle;\n",
              "    }\n",
              "\n",
              "    .dataframe tbody tr th {\n",
              "        vertical-align: top;\n",
              "    }\n",
              "\n",
              "    .dataframe thead th {\n",
              "        text-align: right;\n",
              "    }\n",
              "</style>\n",
              "<table border=\"1\" class=\"dataframe\">\n",
              "  <thead>\n",
              "    <tr style=\"text-align: right;\">\n",
              "      <th></th>\n",
              "      <th>message</th>\n",
              "      <th>type</th>\n",
              "      <th>filename</th>\n",
              "    </tr>\n",
              "  </thead>\n",
              "  <tbody>\n",
              "    <tr>\n",
              "      <th>0</th>\n",
              "      <td>Add parameterized queries to protect against m...</td>\n",
              "      <td>XSS</td>\n",
              "      <td>/drive/MyDrive/git_commits_XSS2.json</td>\n",
              "    </tr>\n",
              "    <tr>\n",
              "      <th>1</th>\n",
              "      <td>Replace malicious sql query\\n\\nLet's show an a...</td>\n",
              "      <td>XSS</td>\n",
              "      <td>/drive/MyDrive/git_commits_XSS2.json</td>\n",
              "    </tr>\n",
              "    <tr>\n",
              "      <th>2</th>\n",
              "      <td>Escaped query values to prevent SQL injection ...</td>\n",
              "      <td>XSS</td>\n",
              "      <td>/drive/MyDrive/git_commits_XSS2.json</td>\n",
              "    </tr>\n",
              "    <tr>\n",
              "      <th>3</th>\n",
              "      <td>setup a defence for malicious SQL injection</td>\n",
              "      <td>XSS</td>\n",
              "      <td>/drive/MyDrive/git_commits_XSS2.json</td>\n",
              "    </tr>\n",
              "    <tr>\n",
              "      <th>4</th>\n",
              "      <td>ecure/prevent sql malicious injection</td>\n",
              "      <td>XSS</td>\n",
              "      <td>/drive/MyDrive/git_commits_XSS2.json</td>\n",
              "    </tr>\n",
              "    <tr>\n",
              "      <th>...</th>\n",
              "      <td>...</td>\n",
              "      <td>...</td>\n",
              "      <td>...</td>\n",
              "    </tr>\n",
              "    <tr>\n",
              "      <th>5495</th>\n",
              "      <td>[NSE] Added http-csrf.nse that detects Cross S...</td>\n",
              "      <td>XSS</td>\n",
              "      <td>/drive/MyDrive/git_commits_XSS59.json</td>\n",
              "    </tr>\n",
              "    <tr>\n",
              "      <th>5496</th>\n",
              "      <td>[NSE] Added http-csrf.nse that detects Cross S...</td>\n",
              "      <td>XSS</td>\n",
              "      <td>/drive/MyDrive/git_commits_XSS59.json</td>\n",
              "    </tr>\n",
              "    <tr>\n",
              "      <th>5497</th>\n",
              "      <td>[NSE] Added http-csrf.nse that detects Cross S...</td>\n",
              "      <td>XSS</td>\n",
              "      <td>/drive/MyDrive/git_commits_XSS59.json</td>\n",
              "    </tr>\n",
              "    <tr>\n",
              "      <th>5498</th>\n",
              "      <td>[NSE] Added http-csrf.nse that detects Cross S...</td>\n",
              "      <td>XSS</td>\n",
              "      <td>/drive/MyDrive/git_commits_XSS59.json</td>\n",
              "    </tr>\n",
              "    <tr>\n",
              "      <th>5499</th>\n",
              "      <td>[NSE] Added http-csrf.nse that detects Cross S...</td>\n",
              "      <td>XSS</td>\n",
              "      <td>/drive/MyDrive/git_commits_XSS59.json</td>\n",
              "    </tr>\n",
              "  </tbody>\n",
              "</table>\n",
              "<p>5500 rows × 3 columns</p>\n",
              "</div>"
            ],
            "text/plain": [
              "                                                message  ...                               filename\n",
              "0     Add parameterized queries to protect against m...  ...   /drive/MyDrive/git_commits_XSS2.json\n",
              "1     Replace malicious sql query\\n\\nLet's show an a...  ...   /drive/MyDrive/git_commits_XSS2.json\n",
              "2     Escaped query values to prevent SQL injection ...  ...   /drive/MyDrive/git_commits_XSS2.json\n",
              "3           setup a defence for malicious SQL injection  ...   /drive/MyDrive/git_commits_XSS2.json\n",
              "4                 ecure/prevent sql malicious injection  ...   /drive/MyDrive/git_commits_XSS2.json\n",
              "...                                                 ...  ...                                    ...\n",
              "5495  [NSE] Added http-csrf.nse that detects Cross S...  ...  /drive/MyDrive/git_commits_XSS59.json\n",
              "5496  [NSE] Added http-csrf.nse that detects Cross S...  ...  /drive/MyDrive/git_commits_XSS59.json\n",
              "5497  [NSE] Added http-csrf.nse that detects Cross S...  ...  /drive/MyDrive/git_commits_XSS59.json\n",
              "5498  [NSE] Added http-csrf.nse that detects Cross S...  ...  /drive/MyDrive/git_commits_XSS59.json\n",
              "5499  [NSE] Added http-csrf.nse that detects Cross S...  ...  /drive/MyDrive/git_commits_XSS59.json\n",
              "\n",
              "[5500 rows x 3 columns]"
            ]
          },
          "metadata": {},
          "execution_count": 8
        }
      ]
    },
    {
      "cell_type": "code",
      "metadata": {
        "colab": {
          "base_uri": "https://localhost:8080/"
        },
        "id": "5TiCEK-QDK6j",
        "outputId": "b45fbfbc-a953-4848-8a59-2313d8fc1ec6"
      },
      "source": [
        "countsqli"
      ],
      "execution_count": null,
      "outputs": [
        {
          "output_type": "execute_result",
          "data": {
            "text/plain": [
              "44"
            ]
          },
          "metadata": {},
          "execution_count": 81
        }
      ]
    },
    {
      "cell_type": "code",
      "metadata": {
        "id": "o6OZUDeeCVAl"
      },
      "source": [
        "#extracting messages for sql\n",
        "\n",
        "sql_msg=list()\n",
        "filename_sql = list()\n",
        "\n",
        "for i in range(2,countsqli+2):\n",
        "  with open('/drive/MyDrive/git_commits_SQL'+str(i)+'.json')as inputfile:\n",
        "    data = json.load(inputfile)\n",
        "    for j in range(0,len(data[\"items\"])):\n",
        "      filename_sql.append( '/drive/MyDrive/git_commits_SQL'+str(i)+'.json')\n",
        "      sql_msg.append(data[\"items\"][j][\"commit\"][\"message\"])\n",
        "\n",
        "final_data_sql= {'message':sql_msg,'type':'SQLI','filename':filename_sql}\n",
        "data_frame_sql = pd.DataFrame(final_data_sql)\n"
      ],
      "execution_count": 9,
      "outputs": []
    },
    {
      "cell_type": "code",
      "metadata": {
        "colab": {
          "base_uri": "https://localhost:8080/",
          "height": 206
        },
        "id": "WB3MD-ZHy5RC",
        "outputId": "7bcaf42f-033b-4ac4-981f-835cad3b37a1"
      },
      "source": [
        "data_frame_sql.head()"
      ],
      "execution_count": 67,
      "outputs": [
        {
          "output_type": "execute_result",
          "data": {
            "text/html": [
              "<div>\n",
              "<style scoped>\n",
              "    .dataframe tbody tr th:only-of-type {\n",
              "        vertical-align: middle;\n",
              "    }\n",
              "\n",
              "    .dataframe tbody tr th {\n",
              "        vertical-align: top;\n",
              "    }\n",
              "\n",
              "    .dataframe thead th {\n",
              "        text-align: right;\n",
              "    }\n",
              "</style>\n",
              "<table border=\"1\" class=\"dataframe\">\n",
              "  <thead>\n",
              "    <tr style=\"text-align: right;\">\n",
              "      <th></th>\n",
              "      <th>message</th>\n",
              "      <th>type</th>\n",
              "      <th>filename</th>\n",
              "    </tr>\n",
              "  </thead>\n",
              "  <tbody>\n",
              "    <tr>\n",
              "      <th>0</th>\n",
              "      <td>Add parameterized queries to protect against m...</td>\n",
              "      <td>SQLI</td>\n",
              "      <td>/drive/MyDrive/git_commits_SQL2.json</td>\n",
              "    </tr>\n",
              "    <tr>\n",
              "      <th>1</th>\n",
              "      <td>Replace malicious sql query\\n\\nLet's show an a...</td>\n",
              "      <td>SQLI</td>\n",
              "      <td>/drive/MyDrive/git_commits_SQL2.json</td>\n",
              "    </tr>\n",
              "    <tr>\n",
              "      <th>2</th>\n",
              "      <td>Escaped query values to prevent SQL injection ...</td>\n",
              "      <td>SQLI</td>\n",
              "      <td>/drive/MyDrive/git_commits_SQL2.json</td>\n",
              "    </tr>\n",
              "    <tr>\n",
              "      <th>3</th>\n",
              "      <td>setup a defence for malicious SQL injection</td>\n",
              "      <td>SQLI</td>\n",
              "      <td>/drive/MyDrive/git_commits_SQL2.json</td>\n",
              "    </tr>\n",
              "    <tr>\n",
              "      <th>4</th>\n",
              "      <td>ecure/prevent sql malicious injection</td>\n",
              "      <td>SQLI</td>\n",
              "      <td>/drive/MyDrive/git_commits_SQL2.json</td>\n",
              "    </tr>\n",
              "  </tbody>\n",
              "</table>\n",
              "</div>"
            ],
            "text/plain": [
              "                                             message  ...                              filename\n",
              "0  Add parameterized queries to protect against m...  ...  /drive/MyDrive/git_commits_SQL2.json\n",
              "1  Replace malicious sql query\\n\\nLet's show an a...  ...  /drive/MyDrive/git_commits_SQL2.json\n",
              "2  Escaped query values to prevent SQL injection ...  ...  /drive/MyDrive/git_commits_SQL2.json\n",
              "3        setup a defence for malicious SQL injection  ...  /drive/MyDrive/git_commits_SQL2.json\n",
              "4              ecure/prevent sql malicious injection  ...  /drive/MyDrive/git_commits_SQL2.json\n",
              "\n",
              "[5 rows x 3 columns]"
            ]
          },
          "metadata": {},
          "execution_count": 67
        }
      ]
    },
    {
      "cell_type": "code",
      "metadata": {
        "id": "ezQTnaY2EZ5U"
      },
      "source": [
        "#extracting messages for improper access\n",
        "\n",
        "ia_msg=list()\n",
        "filename_ia = list()\n",
        "\n",
        "for i in range(2,countimproperaccess+2):\n",
        "  with open('/drive/MyDrive/git_commits_Improperaccess'+str(i)+'.json')as inputfile:\n",
        "    data = json.load(inputfile)\n",
        "    if i==40:  #file numbers to ignore\n",
        "      continue\n",
        "    else:\n",
        "      #print(i, len(data[\"items\"]))\n",
        "      for j in range(0,len(data[\"items\"])):\n",
        "        filename_ia.append( '/drive/MyDrive/git_commits_Improperaccess'+str(i)+'.json')\n",
        "        ia_msg.append(data[\"items\"][j][\"commit\"][\"message\"])\n",
        "\n",
        "final_data_ia= {'message':ia_msg,'type':'ImproperAccess','filename':filename_ia}\n",
        "data_frame_ia = pd.DataFrame(final_data_ia)\n"
      ],
      "execution_count": 10,
      "outputs": []
    },
    {
      "cell_type": "code",
      "metadata": {
        "id": "JAijJqwPfl_v"
      },
      "source": [
        "df1 = data_frame_xss[['message','type']]\n",
        "df2 = data_frame_sql[['message','type']]\n",
        "df3 = data_frame_ia[['message','type']]\n",
        "\n",
        "df =pd.concat([df1,df2,df3],ignore_index=True)"
      ],
      "execution_count": 80,
      "outputs": []
    },
    {
      "cell_type": "code",
      "metadata": {
        "colab": {
          "base_uri": "https://localhost:8080/"
        },
        "id": "vJx5_D0of0PU",
        "outputId": "01c85863-bed5-4f35-e0cc-f34a68e18024"
      },
      "source": [
        "df.head"
      ],
      "execution_count": 81,
      "outputs": [
        {
          "output_type": "execute_result",
          "data": {
            "text/plain": [
              "<bound method NDFrame.head of                                                  message            type\n",
              "0      Add parameterized queries to protect against m...             XSS\n",
              "1      Replace malicious sql query\\n\\nLet's show an a...             XSS\n",
              "2      Escaped query values to prevent SQL injection ...             XSS\n",
              "3            setup a defence for malicious SQL injection             XSS\n",
              "4                  ecure/prevent sql malicious injection             XSS\n",
              "...                                                  ...             ...\n",
              "16095  Fix security vulnerability in DPMS\\n\\nChanged ...  ImproperAccess\n",
              "16096  Fix security vulnerability in DPMS\\n\\nChanged ...  ImproperAccess\n",
              "16097  Fix security vulnerability in DPMS\\n\\nChanged ...  ImproperAccess\n",
              "16098  Fix security vulnerability in DPMS\\n\\nChanged ...  ImproperAccess\n",
              "16099  Fix security vulnerability in DPMS\\n\\nChanged ...  ImproperAccess\n",
              "\n",
              "[16100 rows x 2 columns]>"
            ]
          },
          "metadata": {},
          "execution_count": 81
        }
      ]
    },
    {
      "cell_type": "code",
      "metadata": {
        "colab": {
          "base_uri": "https://localhost:8080/"
        },
        "id": "vjZjVy9CqUC_",
        "outputId": "e3498e88-b9de-4745-d3dc-085c0f7eaa38"
      },
      "source": [
        "df = df[ df[\"type\"].isin(['XSS','SQLI','ImproperAccess']) ][[\"type\",\"message\"]]\n",
        "#rename columns\n",
        "df = df.rename(columns={\"type\":\"y\", \"message\":\"text\"})\n",
        "\n",
        "## print 5 random rows\n",
        "print(df.sample(5))\n",
        "\n",
        "print(df.shape)"
      ],
      "execution_count": 82,
      "outputs": [
        {
          "output_type": "stream",
          "name": "stdout",
          "text": [
            "                    y                                               text\n",
            "11940  ImproperAccess  Short-circuit `peer_cert` if we're insecure or...\n",
            "11645  ImproperAccess  package/prosody: security bump to version 0.11...\n",
            "9848             SQLI                  Fixed sql injection vulnerability\n",
            "5959             SQLI  Merge pull request #1755 from cockroachdb/marc...\n",
            "8080             SQLI                  MAGETWO-46920: SQLi Vulnerability\n",
            "(16100, 2)\n"
          ]
        }
      ]
    },
    {
      "cell_type": "code",
      "metadata": {
        "colab": {
          "base_uri": "https://localhost:8080/",
          "height": 294
        },
        "id": "g3aMWjld0USH",
        "outputId": "a872e0eb-0062-40ac-cd1a-360c9662a561"
      },
      "source": [
        "#Univariate distribution to understand data distribution\n",
        "\n",
        "fig, ax = plt.subplots()\n",
        "fig.suptitle(\"y\", fontsize=12)\n",
        "df[\"y\"].reset_index().groupby(\"y\").count().sort_values(by= \n",
        "       \"index\").plot(kind=\"barh\", legend=False, \n",
        "        ax=ax).grid(axis='x')\n",
        "plt.show()"
      ],
      "execution_count": 84,
      "outputs": [
        {
          "output_type": "display_data",
          "data": {
            "image/png": "[encoded data removed]",
            "text/plain": [
              "<Figure size 432x288 with 1 Axes>"
            ]
          },
          "metadata": {
            "needs_background": "light"
          }
        }
      ]
    },
    {
      "cell_type": "markdown",
      "metadata": {
        "id": "OWP0eXDupcKM"
      },
      "source": [
        "https://towardsdatascience.com/text-classification-with-nlp-tf-idf-vs-word2vec-vs-bert-41ff868d1794"
      ]
    },
    {
      "cell_type": "code",
      "metadata": {
        "id": "VncOxDQU0fEt"
      },
      "source": [
        "#preprocessing\n",
        "\n",
        "'''\n",
        "Preprocess a string.\n",
        ":parameter\n",
        "    :param text: string - name of column containing text\n",
        "    :param lst_stopwords: list - list of stopwords to remove\n",
        "    :param flg_stemm: bool - whether stemming is to be applied\n",
        "    :param flg_lemm: bool - whether lemmitisation is to be applied\n",
        ":return\n",
        "    cleaned text\n",
        "'''\n",
        "def utils_preprocess_text(text, flg_stemm=False, flg_lemm=True, lst_stopwords=None):\n",
        "    ## clean (convert to lowercase and remove punctuations and   characters and then strip)\n",
        "    text = re.sub(r'[^\\w\\s]', '', str(text).lower().strip())\n",
        "            \n",
        "    ## Tokenize (convert from string to list)\n",
        "    lst_text = text.split()\n",
        "    ## remove Stopwords\n",
        "    if lst_stopwords is not None:\n",
        "        lst_text = [word for word in lst_text if word not in \n",
        "                    lst_stopwords]\n",
        "                \n",
        "    ## Stemming (remove -ing, -ly, ...)\n",
        "    if flg_stemm == True:\n",
        "        ps = nltk.stem.porter.PorterStemmer()\n",
        "        lst_text = [ps.stem(word) for word in lst_text]\n",
        "                \n",
        "    ## Lemmatisation (convert the word into root word)\n",
        "    if flg_lemm == True:\n",
        "        lem = nltk.stem.wordnet.WordNetLemmatizer()\n",
        "        lst_text = [lem.lemmatize(word) for word in lst_text]\n",
        "            \n",
        "    ## back to string from list\n",
        "    text = \" \".join(lst_text)\n",
        "    return text\n"
      ],
      "execution_count": 86,
      "outputs": []
    },
    {
      "cell_type": "code",
      "metadata": {
        "id": "qazTdaD_0nLY"
      },
      "source": [
        "\n",
        "lst_stopwords = nltk.corpus.stopwords.words(\"english\")\n",
        "#lst_stopwords"
      ],
      "execution_count": null,
      "outputs": []
    },
    {
      "cell_type": "code",
      "metadata": {
        "colab": {
          "base_uri": "https://localhost:8080/",
          "height": 206
        },
        "id": "8JuX8ojV0pH6",
        "outputId": "d7d7369f-76b4-4d0c-9f23-af12c4890686"
      },
      "source": [
        "df[\"text_clean\"] = df[\"text\"].apply(lambda x: \n",
        "          utils_preprocess_text(x, flg_stemm=False, flg_lemm=True, \n",
        "          lst_stopwords=lst_stopwords))\n",
        "df.head()"
      ],
      "execution_count": 92,
      "outputs": [
        {
          "output_type": "execute_result",
          "data": {
            "text/html": [
              "<div>\n",
              "<style scoped>\n",
              "    .dataframe tbody tr th:only-of-type {\n",
              "        vertical-align: middle;\n",
              "    }\n",
              "\n",
              "    .dataframe tbody tr th {\n",
              "        vertical-align: top;\n",
              "    }\n",
              "\n",
              "    .dataframe thead th {\n",
              "        text-align: right;\n",
              "    }\n",
              "</style>\n",
              "<table border=\"1\" class=\"dataframe\">\n",
              "  <thead>\n",
              "    <tr style=\"text-align: right;\">\n",
              "      <th></th>\n",
              "      <th>y</th>\n",
              "      <th>text</th>\n",
              "      <th>text_clean</th>\n",
              "    </tr>\n",
              "  </thead>\n",
              "  <tbody>\n",
              "    <tr>\n",
              "      <th>0</th>\n",
              "      <td>XSS</td>\n",
              "      <td>Add parameterized queries to protect against m...</td>\n",
              "      <td>add parameterized query protect malicious sql ...</td>\n",
              "    </tr>\n",
              "    <tr>\n",
              "      <th>1</th>\n",
              "      <td>XSS</td>\n",
              "      <td>Replace malicious sql query\\n\\nLet's show an a...</td>\n",
              "      <td>replace malicious sql query let show actual at...</td>\n",
              "    </tr>\n",
              "    <tr>\n",
              "      <th>2</th>\n",
              "      <td>XSS</td>\n",
              "      <td>Escaped query values to prevent SQL injection ...</td>\n",
              "      <td>escaped query value prevent sql injection inse...</td>\n",
              "    </tr>\n",
              "    <tr>\n",
              "      <th>3</th>\n",
              "      <td>XSS</td>\n",
              "      <td>setup a defence for malicious SQL injection</td>\n",
              "      <td>setup defence malicious sql injection</td>\n",
              "    </tr>\n",
              "    <tr>\n",
              "      <th>4</th>\n",
              "      <td>XSS</td>\n",
              "      <td>ecure/prevent sql malicious injection</td>\n",
              "      <td>ecureprevent sql malicious injection</td>\n",
              "    </tr>\n",
              "  </tbody>\n",
              "</table>\n",
              "</div>"
            ],
            "text/plain": [
              "     y  ...                                         text_clean\n",
              "0  XSS  ...  add parameterized query protect malicious sql ...\n",
              "1  XSS  ...  replace malicious sql query let show actual at...\n",
              "2  XSS  ...  escaped query value prevent sql injection inse...\n",
              "3  XSS  ...              setup defence malicious sql injection\n",
              "4  XSS  ...               ecureprevent sql malicious injection\n",
              "\n",
              "[5 rows x 3 columns]"
            ]
          },
          "metadata": {},
          "execution_count": 92
        }
      ]
    },
    {
      "cell_type": "code",
      "metadata": {
        "id": "awoOr_ST02Ye"
      },
      "source": [
        "## Count (classic BoW)\n",
        "vectorizer = feature_extraction.text.CountVectorizer(max_features=10000, ngram_range=(1,2))\n",
        "\n",
        "## Tf-Idf (advanced variant of BoW)\n",
        "vectorizer = feature_extraction.text.TfidfVectorizer(max_features=10000, ngram_range=(1,2))"
      ],
      "execution_count": 93,
      "outputs": []
    },
    {
      "cell_type": "code",
      "metadata": {
        "id": "aeb4ZMUg1MtK"
      },
      "source": [
        "corpus = df[\"text_clean\"]\n",
        "vectorizer.fit(corpus)\n",
        "X_train = vectorizer.transform(corpus)\n",
        "dic_vocabulary = vectorizer.vocabulary_"
      ],
      "execution_count": 95,
      "outputs": []
    },
    {
      "cell_type": "code",
      "metadata": {
        "colab": {
          "base_uri": "https://localhost:8080/",
          "height": 298
        },
        "id": "_wGHzLKt1UrQ",
        "outputId": "85fa49db-6425-4f24-feeb-ff92f10d9f54"
      },
      "source": [
        "sns.heatmap(X_train.todense()[:,np.random.randint(0,X.shape[1],100)]==0, vmin=0, vmax=1, cbar=False).set_title('Sparse Matrix Sample')"
      ],
      "execution_count": 96,
      "outputs": [
        {
          "output_type": "execute_result",
          "data": {
            "text/plain": [
              "Text(0.5, 1.0, 'Sparse Matrix Sample')"
            ]
          },
          "metadata": {},
          "execution_count": 96
        },
        {
          "output_type": "display_data",
          "data": {
            "image/png": "[encoded data removed]",
            "text/plain": [
              "<Figure size 432x288 with 1 Axes>"
            ]
          },
          "metadata": {
            "needs_background": "light"
          }
        }
      ]
    },
    {
      "cell_type": "markdown",
      "metadata": {
        "id": "ucBjTXTi2L6_"
      },
      "source": [
        "**Word2Vec**"
      ]
    },
    {
      "cell_type": "code",
      "metadata": {
        "id": "D-2Rg46t2Va-"
      },
      "source": [
        "nlp = gensim.models.word2vec.Word2Vec(lst_corpus, size=300,   \n",
        "            window=8, min_count=1, sg=1, iter=30)  # fit w2v"
      ],
      "execution_count": 104,
      "outputs": []
    },
    {
      "cell_type": "code",
      "metadata": {
        "id": "MlzoMbXo1axa"
      },
      "source": [
        "## tokenize text\n",
        "tokenizer = kprocessing.text.Tokenizer(lower=True, split=' ', \n",
        "                     oov_token=\"NaN\", \n",
        "                     filters='!\"#$%&()*+,-./:;<=>?@[\\\\]^_`{|}~\\t\\n')\n",
        "tokenizer.fit_on_texts(lst_corpus)\n",
        "dic_vocabulary = tokenizer.word_index\n",
        "## create sequence\n",
        "lst_text2seq= tokenizer.texts_to_sequences(lst_corpus)\n",
        "## padding sequence\n",
        "X_train = kprocessing.sequence.pad_sequences(lst_text2seq, \n",
        "                    maxlen=15, padding=\"post\", truncating=\"post\")"
      ],
      "execution_count": 98,
      "outputs": []
    },
    {
      "cell_type": "code",
      "metadata": {
        "colab": {
          "base_uri": "https://localhost:8080/"
        },
        "id": "N-L5M5tt1ii5",
        "outputId": "fbf9db7f-adf2-4db3-c9a2-f0d9746657f1"
      },
      "source": [
        "word = \"malicious\"\n",
        "nlp[word].shape"
      ],
      "execution_count": 116,
      "outputs": [
        {
          "output_type": "execute_result",
          "data": {
            "text/plain": [
              "(300,)"
            ]
          },
          "metadata": {},
          "execution_count": 116
        }
      ]
    },
    {
      "cell_type": "code",
      "metadata": {
        "colab": {
          "base_uri": "https://localhost:8080/",
          "height": 248
        },
        "id": "1d-J7qAY1zlI",
        "outputId": "fb8988a0-a6fe-4842-ff9c-f55d5be003b7"
      },
      "source": [
        "from sklearn.manifold import TSNE\n",
        "\n",
        "from mpl_toolkits.mplot3d import Axes3D\n",
        "import matplotlib.pyplot as plt\n",
        "import pandas as pd\n",
        "import seaborn as sns\n",
        "\n",
        "\n",
        "word = \"malicious\"\n",
        "fig = plt.figure()\n",
        "## word embedding\n",
        "tot_words = [word] + [tupla[0] for tupla in \n",
        "                 nlp.most_similar(word, topn=20)]\n",
        "X = nlp[tot_words]\n",
        "## pca to reduce dimensionality from 300 to 3\n",
        "pca = manifold.TSNE(perplexity=40, n_components=3, init='pca')\n",
        "X = pca.fit_transform(X)\n",
        "## create dtf\n",
        "dtf_ = pd.DataFrame(X, index=tot_words, columns=[\"x\",\"y\",\"z\"])\n",
        "dtf_[\"input\"] = 0\n",
        "dtf_[\"input\"].iloc[0:1] = 1\n",
        "## plot 3d\n",
        "from mpl_toolkits.mplot3d import Axes3D\n",
        "ax = fig.add_subplot(111, projection='3d')\n",
        "ax.scatter(dtf_[dtf_[\"input\"]==0]['x'], \n",
        "           dtf_[dtf_[\"input\"]==0]['y'], \n",
        "           dtf_[dtf_[\"input\"]==0]['z'], c=\"black\")\n",
        "ax.scatter(dtf_[dtf_[\"input\"]==1]['x'], \n",
        "           dtf_[dtf_[\"input\"]==1]['y'], \n",
        "           dtf_[dtf_[\"input\"]==1]['z'], c=\"red\")\n",
        "ax.set(xlabel=None, ylabel=None, zlabel=None, xticklabels=[], \n",
        "       yticklabels=[], zticklabels=[])\n",
        "for label, row in dtf_[[\"x\",\"y\",\"z\"]].iterrows():\n",
        "    x, y, z = row\n",
        "    ax.text(x, y, z, s=label)\n",
        "\n",
        "#Try to animate"
      ],
      "execution_count": 137,
      "outputs": [
        {
          "output_type": "display_data",
          "data": {
            "image/png": "[encoded data removed]",
            "text/plain": [
              "<Figure size 432x288 with 1 Axes>"
            ]
          },
          "metadata": {
            "needs_background": "light"
          }
        }
      ]
    },
    {
      "cell_type": "code",
      "metadata": {
        "id": "QnY8G5-P9Wty"
      },
      "source": [
        "## tokenize text\n",
        "tokenizer = kprocessing.text.Tokenizer(lower=True, split=' ', \n",
        "                     oov_token=\"NaN\", \n",
        "                     filters='!\"#$%&()*+,-./:;<=>?@[\\\\]^_`{|}~\\t\\n')\n",
        "tokenizer.fit_on_texts(lst_corpus)\n",
        "dic_vocabulary = tokenizer.word_index\n",
        "## create sequence\n",
        "lst_text2seq= tokenizer.texts_to_sequences(lst_corpus)\n",
        "## padding sequence\n",
        "X_train = kprocessing.sequence.pad_sequences(lst_text2seq, \n",
        "                    maxlen=15, padding=\"post\", truncating=\"post\")"
      ],
      "execution_count": 138,
      "outputs": []
    },
    {
      "cell_type": "code",
      "metadata": {
        "colab": {
          "base_uri": "https://localhost:8080/",
          "height": 270
        },
        "id": "OHcDCBMS-17o",
        "outputId": "f6234d33-b9a2-4003-8eb6-a909d25fd030"
      },
      "source": [
        "sns.heatmap(X_train==0, vmin=0, vmax=1, cbar=False)\n",
        "plt.show()"
      ],
      "execution_count": 139,
      "outputs": [
        {
          "output_type": "display_data",
          "data": {
            "image/png": "[encoded data removed]",
            "text/plain": [
              "<Figure size 432x288 with 1 Axes>"
            ]
          },
          "metadata": {
            "needs_background": "light"
          }
        }
      ]
    },
    {
      "cell_type": "code",
      "metadata": {
        "colab": {
          "base_uri": "https://localhost:8080/"
        },
        "id": "CYXAwFJn-3mq",
        "outputId": "63a57017-c3f7-47d0-b301-214706eec19f"
      },
      "source": [
        "i = 0\n",
        "\n",
        "## list of text: [\"I like this\", ...]\n",
        "len_txt = len(df[\"text_clean\"].iloc[i].split())\n",
        "print(\"from: \", df[\"text_clean\"].iloc[i], \"| len:\", len_txt)\n",
        "\n",
        "## sequence of token ids: [[1, 2, 3], ...]\n",
        "len_tokens = len(X_train[i])\n",
        "print(\"to: \", X_train[i], \"| len:\", len(X_train[i]))\n",
        "\n",
        "## vocabulary: {\"I\":1, \"like\":2, \"this\":3, ...}\n",
        "print(\"check: \", df[\"text_clean\"].iloc[i].split()[0], \n",
        "      \" -- idx in vocabulary -->\", \n",
        "      dic_vocabulary[df[\"text_clean\"].iloc[i].split()[0]])\n",
        "\n",
        "print(\"vocabulary: \", dict(list(dic_vocabulary.items()), \"... (padding element, 0)\")"
      ],
      "execution_count": 143,
      "outputs": [
        {
          "output_type": "stream",
          "name": "stdout",
          "text": [
            "from:  add parameterized query protect malicious sql injection | len: 7\n",
            "to:  [  14 4656  177  465   36    8    7    0    0    0    0    0    0    0\n",
            "    0] | len: 15\n",
            "check:  add  -- idx in vocabulary --> 14\n",
            "vocabulary:  {'NaN': 1, '0': 2, 'vulnerability': 3, 'crosssite': 4, 'multiple': 5} ... (padding element, 0)\n"
          ]
        }
      ]
    },
    {
      "cell_type": "code",
      "metadata": {
        "id": "ic2GCjQ3-7iP"
      },
      "source": [
        ""
      ],
      "execution_count": null,
      "outputs": []
    }
  ]
}