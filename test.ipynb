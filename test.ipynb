{
  "nbformat": 4,
  "nbformat_minor": 0,
  "metadata": {
    "colab": {
      "name": "test.ipynb",
      "provenance": [],
      "collapsed_sections": [],
      "mount_file_id": "1jDh6UuxXYVqwflTeTsGnwY6g459h_Bgr",
      "authorship_tag": "ABX9TyNbn3qHR8OE20lNpVR9dfz7",
      "include_colab_link": true
    },
    "kernelspec": {
      "name": "python3",
      "display_name": "Python 3"
    },
    "language_info": {
      "name": "python"
    }
  },
  "cells": [
    {
      "cell_type": "markdown",
      "metadata": {
        "id": "view-in-github",
        "colab_type": "text"
      },
      "source": [
        "<a href=\"https://colab.research.google.com/github/tanvi-ap/DEVINSC/blob/main/test.ipynb\" target=\"_parent\"><img src=\"https://colab.research.google.com/assets/colab-badge.svg\" alt=\"Open In Colab\"/></a>"
      ]
    },
    {
      "cell_type": "code",
      "metadata": {
        "colab": {
          "base_uri": "https://localhost:8080/"
        },
        "id": "0CO5K1rnfpJu",
        "outputId": "bce5aff8-08fc-4f46-abb5-d2c3c44b0107"
      },
      "source": [
        "!pip install transformers"
      ],
      "execution_count": null,
      "outputs": [
        {
          "output_type": "stream",
          "name": "stdout",
          "text": [
            "Collecting transformers\n",
            "  Downloading transformers-4.12.3-py3-none-any.whl (3.1 MB)\n",
            "\u001b[K     |████████████████████████████████| 3.1 MB 4.4 MB/s \n",
            "\u001b[?25hRequirement already satisfied: regex!=2019.12.17 in /usr/local/lib/python3.7/dist-packages (from transformers) (2019.12.20)\n",
            "Collecting tokenizers<0.11,>=0.10.1\n",
            "  Downloading tokenizers-0.10.3-cp37-cp37m-manylinux_2_5_x86_64.manylinux1_x86_64.manylinux_2_12_x86_64.manylinux2010_x86_64.whl (3.3 MB)\n",
            "\u001b[K     |████████████████████████████████| 3.3 MB 38.6 MB/s \n",
            "\u001b[?25hRequirement already satisfied: filelock in /usr/local/lib/python3.7/dist-packages (from transformers) (3.3.0)\n",
            "Collecting sacremoses\n",
            "  Downloading sacremoses-0.0.46-py3-none-any.whl (895 kB)\n",
            "\u001b[K     |████████████████████████████████| 895 kB 60.4 MB/s \n",
            "\u001b[?25hCollecting huggingface-hub<1.0,>=0.1.0\n",
            "  Downloading huggingface_hub-0.1.1-py3-none-any.whl (59 kB)\n",
            "\u001b[K     |████████████████████████████████| 59 kB 6.6 MB/s \n",
            "\u001b[?25hCollecting pyyaml>=5.1\n",
            "  Downloading PyYAML-6.0-cp37-cp37m-manylinux_2_5_x86_64.manylinux1_x86_64.manylinux_2_12_x86_64.manylinux2010_x86_64.whl (596 kB)\n",
            "\u001b[K     |████████████████████████████████| 596 kB 63.4 MB/s \n",
            "\u001b[?25hRequirement already satisfied: tqdm>=4.27 in /usr/local/lib/python3.7/dist-packages (from transformers) (4.62.3)\n",
            "Requirement already satisfied: importlib-metadata in /usr/local/lib/python3.7/dist-packages (from transformers) (4.8.1)\n",
            "Requirement already satisfied: requests in /usr/local/lib/python3.7/dist-packages (from transformers) (2.23.0)\n",
            "Requirement already satisfied: numpy>=1.17 in /usr/local/lib/python3.7/dist-packages (from transformers) (1.19.5)\n",
            "Requirement already satisfied: packaging>=20.0 in /usr/local/lib/python3.7/dist-packages (from transformers) (21.0)\n",
            "Requirement already satisfied: typing-extensions>=3.7.4.3 in /usr/local/lib/python3.7/dist-packages (from huggingface-hub<1.0,>=0.1.0->transformers) (3.7.4.3)\n",
            "Requirement already satisfied: pyparsing>=2.0.2 in /usr/local/lib/python3.7/dist-packages (from packaging>=20.0->transformers) (2.4.7)\n",
            "Requirement already satisfied: zipp>=0.5 in /usr/local/lib/python3.7/dist-packages (from importlib-metadata->transformers) (3.6.0)\n",
            "Requirement already satisfied: idna<3,>=2.5 in /usr/local/lib/python3.7/dist-packages (from requests->transformers) (2.10)\n",
            "Requirement already satisfied: urllib3!=1.25.0,!=1.25.1,<1.26,>=1.21.1 in /usr/local/lib/python3.7/dist-packages (from requests->transformers) (1.24.3)\n",
            "Requirement already satisfied: certifi>=2017.4.17 in /usr/local/lib/python3.7/dist-packages (from requests->transformers) (2021.5.30)\n",
            "Requirement already satisfied: chardet<4,>=3.0.2 in /usr/local/lib/python3.7/dist-packages (from requests->transformers) (3.0.4)\n",
            "Requirement already satisfied: click in /usr/local/lib/python3.7/dist-packages (from sacremoses->transformers) (7.1.2)\n",
            "Requirement already satisfied: joblib in /usr/local/lib/python3.7/dist-packages (from sacremoses->transformers) (1.0.1)\n",
            "Requirement already satisfied: six in /usr/local/lib/python3.7/dist-packages (from sacremoses->transformers) (1.15.0)\n",
            "Installing collected packages: pyyaml, tokenizers, sacremoses, huggingface-hub, transformers\n",
            "  Attempting uninstall: pyyaml\n",
            "    Found existing installation: PyYAML 3.13\n",
            "    Uninstalling PyYAML-3.13:\n",
            "      Successfully uninstalled PyYAML-3.13\n",
            "Successfully installed huggingface-hub-0.1.1 pyyaml-6.0 sacremoses-0.0.46 tokenizers-0.10.3 transformers-4.12.3\n"
          ]
        }
      ]
    },
    {
      "cell_type": "code",
      "metadata": {
        "colab": {
          "base_uri": "https://localhost:8080/"
        },
        "id": "GYBGiXayHN_H",
        "outputId": "ce89da76-92de-46b2-b579-2c7b6e7c7908"
      },
      "source": [
        "from google.colab import drive\n",
        "drive.mount('/drive')\n"
      ],
      "execution_count": 12,
      "outputs": [
        {
          "output_type": "stream",
          "name": "stdout",
          "text": [
            "Mounted at /drive\n"
          ]
        }
      ]
    },
    {
      "cell_type": "code",
      "metadata": {
        "id": "O_wdwL2PmhGL"
      },
      "source": [
        "import os\n",
        "import requests\n",
        "import time\n",
        "import sys\n",
        "import json\n",
        "from requests_oauthlib import OAuth1Session\n",
        "from requests_oauthlib import OAuth1\n",
        "\n",
        "def gettoken():\n",
        "  with open('/drive/MyDrive/token.txt', 'r') as token:\n",
        "        gittoken = token.readline().replace(\"\\n\",\"\")\n",
        "  return gittoken\n",
        "\n",
        "#print(gettoken())\n",
        "\n",
        "def searchgit(fixes,commits):\n",
        "    \n",
        "    params = (\n",
        "      ('q', fixes),('per_page',100) )\n",
        "   \n",
        "    headers = {'Accept': 'application/vnd.github.cloak-preview', 'Authorization': 'token ' + gettoken()}\n",
        "    url = \"https://api.github.com/search/commits\"\n",
        "  \n",
        "    for i in range(0,50):\n",
        "        print(i,fixes, commits)\n",
        "        limit = 0\n",
        "        while(limit == 0):\n",
        "            response = requests.get(url,headers=headers,params=(('q',fixes),('per_page',100)))\n",
        "            head = response.headers      \n",
        "            if 'X-RateLimit-Remaining' in head:\n",
        "                limit = int(head['X-RateLimit-Remaining'])\n",
        "                if limit == 0:\n",
        "                # Limit of requests per time was reached, sleep to wait until we can request again\n",
        "                    print(\"Rate limit. Sleep.\")\n",
        "                    time.sleep(35)\n",
        "        if 'Link' not in head:\n",
        "            break;                  \n",
        "                    \n",
        "    content= response.json()\n",
        "    \n",
        "    for j in range(0, len(content)):\n",
        "        repo = content[\"items\"][j][\"repository\"][\"html_url\"]\n",
        "    \n",
        "    with open('/drive/MyDrive/commits.json', 'w') as commitfile:\n",
        "        json.dump(content, commitfile)       \n",
        "\n",
        "\n",
        "  \n",
        "  \n",
        "\n",
        "\n",
        "commits = {}\n",
        "\n",
        "#load previously scraped commits\n",
        "with open('/drive/MyDrive/commits.json','r') as jsonfile:\n",
        "    data = jsonfile.read()\n",
        "    #commits= json.loads(data.decode(\"utf-8\"))\n",
        "   \n",
        "#print(data)\n",
        "    \n",
        "vulnerabilities = [\"XSS\",\"cross site\",\"cross site request forgery\"]   \n",
        "fixwords = [\"prevent\", \"fix\", \"attack\", \"protect\", \"issue\", \"correct\", \"update\", \"improve\", \"change\", \"check\", \"malicious\", \"insecure\", \"vulnerable\", \"vulnerability\"]\n",
        " \n",
        "#for all combinations of vulnerabilities and fixwords, scrape github \n",
        "for v in vulnerabilities:\n",
        "  for fix in fixwords:\n",
        "      searchgit(v + \" \" + fix, commits); "
      ],
      "execution_count": null,
      "outputs": []
    },
    {
      "cell_type": "code",
      "metadata": {
        "colab": {
          "base_uri": "https://localhost:8080/"
        },
        "id": "DSsNsIlEYdia",
        "outputId": "06dea854-0abf-493f-824d-27bda0459fb0"
      },
      "source": [
        "!pip install pydriller"
      ],
      "execution_count": 6,
      "outputs": [
        {
          "output_type": "stream",
          "name": "stdout",
          "text": [
            "Collecting pydriller\n",
            "  Downloading PyDriller-2.0-py3-none-any.whl (65 kB)\n",
            "\u001b[?25l\r\u001b[K     |█████                           | 10 kB 19.6 MB/s eta 0:00:01\r\u001b[K     |██████████                      | 20 kB 9.7 MB/s eta 0:00:01\r\u001b[K     |███████████████                 | 30 kB 8.1 MB/s eta 0:00:01\r\u001b[K     |████████████████████            | 40 kB 7.7 MB/s eta 0:00:01\r\u001b[K     |█████████████████████████       | 51 kB 4.1 MB/s eta 0:00:01\r\u001b[K     |██████████████████████████████  | 61 kB 4.4 MB/s eta 0:00:01\r\u001b[K     |████████████████████████████████| 65 kB 1.9 MB/s \n",
            "\u001b[?25hRequirement already satisfied: pytz in /usr/local/lib/python3.7/dist-packages (from pydriller) (2018.9)\n",
            "Collecting lizard\n",
            "  Downloading lizard-1.17.9-py2.py3-none-any.whl (64 kB)\n",
            "\u001b[K     |████████████████████████████████| 64 kB 2.6 MB/s \n",
            "\u001b[?25hCollecting gitpython\n",
            "  Downloading GitPython-3.1.24-py3-none-any.whl (180 kB)\n",
            "\u001b[K     |████████████████████████████████| 180 kB 34.3 MB/s \n",
            "\u001b[?25hCollecting gitdb<5,>=4.0.1\n",
            "  Downloading gitdb-4.0.9-py3-none-any.whl (63 kB)\n",
            "\u001b[K     |████████████████████████████████| 63 kB 1.5 MB/s \n",
            "\u001b[?25hRequirement already satisfied: typing-extensions>=3.7.4.3 in /usr/local/lib/python3.7/dist-packages (from gitpython->pydriller) (3.7.4.3)\n",
            "Collecting smmap<6,>=3.0.1\n",
            "  Downloading smmap-5.0.0-py3-none-any.whl (24 kB)\n",
            "Installing collected packages: smmap, gitdb, lizard, gitpython, pydriller\n",
            "Successfully installed gitdb-4.0.9 gitpython-3.1.24 lizard-1.17.9 pydriller-2.0 smmap-5.0.0\n"
          ]
        }
      ]
    },
    {
      "cell_type": "code",
      "metadata": {
        "colab": {
          "base_uri": "https://localhost:8080/"
        },
        "id": "UFTZxqIzCvlu",
        "outputId": "8063c709-08f4-4d06-f5e3-0b1c4c30d7be"
      },
      "source": [
        "from pydriller import Repository\n",
        "\n",
        "commits={}\n",
        "\n",
        "f = open('/drive/MyDrive/commits.json')\n",
        "data = json.load(f)\n",
        "\n",
        "for i in data['items']:\n",
        "  commits=i['url']\n",
        "  print(commits)"
      ],
      "execution_count": 29,
      "outputs": [
        {
          "output_type": "stream",
          "name": "stdout",
          "text": [
            "https://api.github.com/repos/chihyeonWON/StudyingMySQL/commits/61ad46b668e5d2672901f4ff3d2a51f62a848abc\n",
            "https://api.github.com/repos/tquoctuan97/social-app/commits/8456beae4a298789e0a5f4eada06507cea45a284\n",
            "https://api.github.com/repos/erikdubbelboer/phpRedisAdmin/commits/b9039adbb264c81333328faa9575ecf8e0d2be94\n",
            "https://api.github.com/repos/96sMicks/Tweeter/commits/d4685b73c5c9720744e90caa9ab78387c7df0e90\n",
            "https://api.github.com/repos/rickySONZ/devcamper_api/commits/39e4bd0aaeace5b9cf38cdaffefcd0a4bb080a1d\n",
            "https://api.github.com/repos/lmachens/game-ticker/commits/50435c0ae25dd206e3dbfb0a0437b32b44341099\n",
            "https://api.github.com/repos/Arjun31415/Price-Drop-Notifier/commits/e99e2574a582a8d4290bc723ff60c38aa71b7917\n",
            "https://api.github.com/repos/Arjun31415/Price-Drop-Notifier/commits/d2a3e186f79d8c94a0a956cb04c81e5261948c2b\n",
            "https://api.github.com/repos/apexcharts/apexcharts.js/commits/67be39cf878198b6c2f4056a3285aaf686102019\n",
            "https://api.github.com/repos/vk415072/fullstackWebProjects/commits/ce1c1af32947ac747a5e1db68fb267d2f8479cf8\n",
            "https://api.github.com/repos/ChromeUniverse/SimplestWebApp/commits/4974c790e8745ae8a74a92f4056b85fa133b431a\n",
            "https://api.github.com/repos/Connections-Business-Directory/Connections/commits/377b3ad8c0cee5f451cc8bde7cc3ef5124d2f651\n",
            "https://api.github.com/repos/Khaled-Farhat/Profily/commits/9a33ecdb114101a7eb4679658e9c9c880d41b933\n",
            "https://api.github.com/repos/Kcruz24/YelpCamp/commits/aa9396e9ab9257b190cdd85eb4d0d186517a7b15\n",
            "https://api.github.com/repos/manvendra-rajpoot/API-with-Express-MongoDB/commits/4a53bf97d453ed8730b05a6320b2e3de437b69e1\n",
            "https://api.github.com/repos/FalconChristmas/fpp/commits/244e8ff5568c52ff73eb7bc4cfb6a596c77210ae\n",
            "https://api.github.com/repos/editvideo/editvideo.github.io/commits/af71ddc55aa6129662a585b7b0d55313fb9e49d5\n",
            "https://api.github.com/repos/keiqu/chatapp/commits/6a30dd0926f69a979ab2cea0e3d7add9844469ae\n",
            "https://api.github.com/repos/GhulamMustafaGM/platform-app/commits/f038f888bb994bc29da5b12e0bf1d970cb7f9d29\n",
            "https://api.github.com/repos/DuendeSoftware/BFF/commits/7f077d706ab544d5a2900222e5b42932c299af68\n",
            "https://api.github.com/repos/iakgoog/flask-market/commits/e4bf03702105e3eec627392b13d843a0484f7c63\n",
            "https://api.github.com/repos/Administrate/administrate-wp-plugin/commits/219ec0868f5ab70a234799473773696fb8edaf36\n",
            "https://api.github.com/repos/contensive/Contensive5/commits/a320efaf70bb7cd9749c1e93e5c9972dee168819\n",
            "https://api.github.com/repos/jadosfer/ASP-.NET-MVC-Server-for-Angular-Course/commits/35f11a7e23e714f8e832083eb2bdbd3342041d56\n",
            "https://api.github.com/repos/jadosfer/AngularUdemyCourse/commits/fca4af2db32140ebc3316238014dff1ef75e5d3f\n",
            "https://api.github.com/repos/jadosfer/AngularUdemyCourse/commits/9cb4e5aceab3a8ec3edd03a3b708741ad29284ac\n",
            "https://api.github.com/repos/thehadiaman/debenger-server/commits/425aecd2425ccffa5fc0a3b1bff9834bbf9fbed2\n",
            "https://api.github.com/repos/yxie0023/vaccine/commits/ebb49da8a1826a897cc643921b867cba9b19d207\n",
            "https://api.github.com/repos/Khaled-Farhat/Profily/commits/0559297cd87fdd96e07baf04bdf486b524c87c81\n",
            "https://api.github.com/repos/mochuelos/consul-manza/commits/5d2474466d36cc1977af4ccfdedff0bf01385364\n",
            "https://api.github.com/repos/AyuntamientoCieza/consul/commits/5d2474466d36cc1977af4ccfdedff0bf01385364\n",
            "https://api.github.com/repos/consul/consul/commits/5d2474466d36cc1977af4ccfdedff0bf01385364\n",
            "https://api.github.com/repos/gorann1/consuldev/commits/5d2474466d36cc1977af4ccfdedff0bf01385364\n",
            "https://api.github.com/repos/fmilazeck/consul-gapa/commits/5d2474466d36cc1977af4ccfdedff0bf01385364\n",
            "https://api.github.com/repos/Decidem/Consul/commits/5d2474466d36cc1977af4ccfdedff0bf01385364\n",
            "https://api.github.com/repos/GemsTracker/MUtil/commits/7a8b90bfd0e174346a6c74b8bec40f8ab6e4771e\n",
            "https://api.github.com/repos/Usabi/consul_san_borondon/commits/5d2474466d36cc1977af4ccfdedff0bf01385364\n",
            "https://api.github.com/repos/yxie0023/vaccine/commits/f8c5ee077424aa388555785e30f8f5b13d4d971b\n",
            "https://api.github.com/repos/prawl/hearth/commits/5f18d9280e7d92de970e8f1561e1464b2735cd56\n",
            "https://api.github.com/repos/dmirandaa/moodle-auth_saml2sso/commits/c3656e173f87c2231c50a100fe19aeff1ea13cae\n",
            "https://api.github.com/repos/rizip1/secret-h/commits/a95e90775fe6b44158a51c3f552372e941dc004b\n",
            "https://api.github.com/repos/cern-eos/eos/commits/cba5f09d27c6adccee3c6d2acff5e001a5b1f05b\n",
            "https://api.github.com/repos/jamesh48/chatterbox-client/commits/8b368d22577822390b40fb40f7da31d5ec33d096\n",
            "https://api.github.com/repos/ddmteetu/Vidly/commits/78db48d49c110f7f2437994c76d19b53e5f0c46d\n",
            "https://api.github.com/repos/civicrm/civicrm-core/commits/54f6fd784e4ca36ced842b81e9d8651a0b1de2a9\n",
            "https://api.github.com/repos/richardjs/kelvandor/commits/aaf80afaae33231249c7d1280a71fe71887100c2\n",
            "https://api.github.com/repos/ch2isk4kos/fm-launch-countdown-timer/commits/b3a5ef8de801f5b9afaab5cd7c0add64b40fb2f5\n",
            "https://api.github.com/repos/vanessuniq/simple_cms/commits/1546d8a04a3f26eadca9841eb518e0911fa9c90c\n",
            "https://api.github.com/repos/todormoskov/tutorials/commits/4838a51a0ed274f14ac237373510f34561018640\n",
            "https://api.github.com/repos/darkwing105/LogAnalyzer/commits/4838a51a0ed274f14ac237373510f34561018640\n",
            "https://api.github.com/repos/kupora3/gateway-test/commits/4838a51a0ed274f14ac237373510f34561018640\n",
            "https://api.github.com/repos/alephzed/baeldung-tutorials/commits/4838a51a0ed274f14ac237373510f34561018640\n",
            "https://api.github.com/repos/crtassos/nodejs-Development-with-Express/commits/8c1bc7511543d2dc2fb1ff520dc1b5667f234043\n",
            "https://api.github.com/repos/eugenp/tutorials/commits/4838a51a0ed274f14ac237373510f34561018640\n",
            "https://api.github.com/repos/aniamika/Flashcards/commits/b61bc83112593b1bf3969ba78a56644187628387\n",
            "https://api.github.com/repos/rene-copaga/AngularAspNetCore/commits/18a77c568ce6e4f250f20ff66e74ed3f5c5767e7\n",
            "https://api.github.com/repos/HDRUK/gateway-api/commits/379dca7a9b886662a40a31c034fd1669f2672cd4\n",
            "https://api.github.com/repos/BurraAbhishek/VirtualElections/commits/e497e13bd72c25d7e9eff947e362db44d1665648\n",
            "https://api.github.com/repos/odoo/odoo/commits/1bb212bd86a8e4ba1638ecbf3515df5fffdaafd5\n",
            "https://api.github.com/repos/iNether/fpecs_aspnetMVC-website/commits/6d8002e4fbad6e0ec03a65e3e74047a27b65ff64\n",
            "https://api.github.com/repos/salahmander/Nacht-Bootcamp-API/commits/d19c39d2a8d8450751e67c13461320d01cc4a863\n",
            "https://api.github.com/repos/adamrturman/art-real-estate/commits/e55429430a4cbca054e09d9bbe3ce89aa3a37d4b\n",
            "https://api.github.com/repos/AyoubKhial/node-starter/commits/3b8677573f893ea4733067dae2be690c33e00e02\n",
            "https://api.github.com/repos/Armatiek/xslweb/commits/6821339a9201ad5cb506f3703faffb5663a8a479\n",
            "https://api.github.com/repos/PekovicNeb/VanillaJSAcademy/commits/95fe10b7f960eafcac7fe6e57209c6b579a1a2f9\n",
            "https://api.github.com/repos/emqx/emqx/commits/5794a708ed28888bd27bc4b8f43a3071e67d3801\n",
            "https://api.github.com/repos/arlolra/snowflake-webext/commits/47ab525ca498bf8699e043aa66c9cabe63d80bfd\n",
            "https://api.github.com/repos/bob-mccone/Blog-website/commits/9eefb4ebc31f5f6f290cfaa15e68a258205bb55f\n",
            "https://api.github.com/repos/SvetlaGeorgieva/natours/commits/9a46e06663f8c390de51a4657ccccda037cd2dd5\n",
            "https://api.github.com/repos/melonsoda20/REST-API-With-MongoDB-and-Express/commits/68345435acb64d1d2bae385f09986df7f3d6fd4f\n",
            "https://api.github.com/repos/ParulFullStackAndBlockchain/ASP.NetMVCHandson/commits/c1ca9b63e86d8f0c626bf62d1b2489adc4da929e\n",
            "https://api.github.com/repos/shailesh-kela-katonic/vscode_1/commits/c505fc45a84623dc76dfb2884bf8229f17d50af1\n",
            "https://api.github.com/repos/bpkennedy/imperialconflict.com/commits/692fa989f2bfd2c1db2a49cb72305f029b03e76f\n",
            "https://api.github.com/repos/Juned9151/my-code-server/commits/c505fc45a84623dc76dfb2884bf8229f17d50af1\n",
            "https://api.github.com/repos/hugefiver/twi-yarn/commits/000d8d89acdb80e1e86a68a9039fae7d89f2feb7\n",
            "https://api.github.com/repos/myTerminal/chrome-quick-console/commits/8d757de32555addb2094401395e3747dfc49844c\n",
            "https://api.github.com/repos/cdr/code-server/commits/c505fc45a84623dc76dfb2884bf8229f17d50af1\n",
            "https://api.github.com/repos/privacyidea/simplesamlphp-module-privacyidea/commits/38327c7385192f585d7f14161a39405defcb6648\n",
            "https://api.github.com/repos/girlscript/feminist-bible-phase-2/commits/6dd8f43f31e949491cee45bb2e76f10bc9eed3d7\n",
            "https://api.github.com/repos/RohanRajGautam/devcamper-api/commits/0810f960a31398ddd1764487183ee08fadf739dc\n",
            "https://api.github.com/repos/shawndreck/learning-nginx/commits/02d495a2b096680f5f188b7f9a332e3d46ba2e49\n",
            "https://api.github.com/repos/privacyidea/simplesamlphp-module-privacyidea/commits/cb3671281e707187d7d62b5f74c2edc8d83a5cf9\n",
            "https://api.github.com/repos/bw-devdesk-queue/Back-End/commits/887b362f53d105b4681638a585046b07a3586e32\n",
            "https://api.github.com/repos/theoboldt/juvem/commits/67bafbdc7a75b79da4da5b6e2c7ed2dc4a5ebecf\n",
            "https://api.github.com/repos/Ashish0077/DevCamper/commits/122b90919b00ef2d7352e011bb0f78ab421e2515\n",
            "https://api.github.com/repos/fredrickace/devcamp_cicd_kubernetes/commits/2b6f6088943e7dd84af5e06d70fbf9421811ab53\n",
            "https://api.github.com/repos/MrYann1c/Grade_WebApp/commits/0fc28ac3a136cd9c5ab09d0212580419b7e292b2\n",
            "https://api.github.com/repos/raulFuzita/todolist/commits/fd313c8bde9efdf0e1ba86e72a17edac5a951302\n",
            "https://api.github.com/repos/ministryofjustice/calculate-journey-variable-payments/commits/8290b4051a41d22f3f09d2c9babc534cd9423a63\n",
            "https://api.github.com/repos/theforbiddenpool/fcc-projects/commits/b78183e9c0c872e4760865b9ac8939aee85d544c\n",
            "https://api.github.com/repos/Glastond/devcamper_node_api/commits/d2144a97426f6a287ff7beebda50bc9e39d162b5\n",
            "https://api.github.com/repos/lleeoochen/web-chess/commits/99396bcddb43d57aaf6f02cd9c52997fba9b9776\n",
            "https://api.github.com/repos/hyperupcall/basalt/commits/8cddf0b404b503bf43367dec82bc8d8ceb60dcbf\n",
            "https://api.github.com/repos/fserapian/codingcamp_api/commits/c1e70dd3a3a66850f0976c6862591654e09ad420\n",
            "https://api.github.com/repos/mtshields/camp-api/commits/c0c0152534c1e3b4f219ded75d5776252a7cb676\n",
            "https://api.github.com/repos/luukkonen1991/PetHotel_Back_Node-Express-MongoDB/commits/019847559049e0f4f70ea4144680f57a75bfaf83\n",
            "https://api.github.com/repos/luukkonen1991/PetHotel_Back_Node-Express-MongoDB/commits/3efa03071eb2fe3f96798ea30bbd4763e23b7d6e\n",
            "https://api.github.com/repos/sajicode/go-photo/commits/dc78a058999d8cecc71bfb4877ae2c03ea38d5d2\n",
            "https://api.github.com/repos/greenbone/gsa/commits/759b6d59d7d7d9cac7aa6fee1faedcdb7db953d2\n",
            "https://api.github.com/repos/jesec/flood/commits/2984d58e2d0c04a5801ba0458f03c05fc1b8199a\n"
          ]
        }
      ]
    },
    {
      "cell_type": "code",
      "metadata": {
        "id": "vevaVheoHuLp"
      },
      "source": [
        "text_file = open('/drive/MyDrive/Colab Notebooks/testvulnerable.ipynb', \"r\")\n",
        "data = text_file.read()\n",
        "text_file.close()"
      ],
      "execution_count": null,
      "outputs": []
    },
    {
      "cell_type": "code",
      "metadata": {
        "colab": {
          "base_uri": "https://localhost:8080/"
        },
        "id": "zdzMTCgxJLuc",
        "outputId": "db2be234-1b3e-42cb-99e3-8b4d3235385e"
      },
      "source": [
        "print(type(data))"
      ],
      "execution_count": null,
      "outputs": [
        {
          "output_type": "stream",
          "name": "stdout",
          "text": [
            "<class 'str'>\n"
          ]
        }
      ]
    },
    {
      "cell_type": "code",
      "metadata": {
        "colab": {
          "base_uri": "https://localhost:8080/"
        },
        "id": "j5YugEkGfdOz",
        "outputId": "e1968882-b53e-4072-b94d-5e29fe53772b"
      },
      "source": [
        "from transformers import AutoTokenizer, AutoModelForSequenceClassification\n",
        "import torch\n",
        "import numpy as np\n",
        "\n",
        "\n",
        "tokenizer = AutoTokenizer.from_pretrained('mrm8488/codebert-base-finetuned-detect-insecure-code')\n",
        "model = AutoModelForSequenceClassification.from_pretrained('mrm8488/codebert-base-finetuned-detect-insecure-code')\n",
        "\n",
        "\n",
        "inputs = tokenizer(data, return_tensors=\"pt\", truncation=True, padding='max_length')\n",
        "labels = torch.tensor([1]).unsqueeze(0)  # Batch size 1\n",
        "outputs = model(**inputs, labels=labels)\n",
        "loss = outputs.loss\n",
        "logits = outputs.logits\n",
        "\n",
        "print(np.argmax(logits.detach().numpy()))\n",
        "print(outputs.values)"
      ],
      "execution_count": null,
      "outputs": [
        {
          "output_type": "stream",
          "name": "stdout",
          "text": [
            "1\n",
            "<built-in method values of SequenceClassifierOutput object at 0x7fb9a3f3df80>\n"
          ]
        }
      ]
    }
  ]
}